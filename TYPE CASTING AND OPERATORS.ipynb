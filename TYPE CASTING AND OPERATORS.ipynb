{
 "cells": [
  {
   "cell_type": "markdown",
   "metadata": {},
   "source": [
    "### Type Conversion\n",
    "### Python defines type conversion functions\n",
    "### to directly convert one data type to another which is useful in day to day and competitive programming."
   ]
  },
  {
   "cell_type": "code",
   "execution_count": 1,
   "metadata": {},
   "outputs": [
    {
     "name": "stdout",
     "output_type": "stream",
     "text": [
      "After converting to integer base 2 :  18\n"
     ]
    }
   ],
   "source": [
    "#int(a,base) : This function converts any data type to integer. \n",
    "#‘Base’ specifies the base in which string is if data type is string.\n",
    "# initializing string \n",
    "s = \"10010\"\n",
    "  \n",
    "# printing string converting to int base 2 \n",
    "c = int(s,2) \n",
    "print (\"After converting to integer base 2 : \", c)  "
   ]
  },
  {
   "cell_type": "code",
   "execution_count": 2,
   "metadata": {},
   "outputs": [
    {
     "name": "stdout",
     "output_type": "stream",
     "text": [
      "After converting to float :  10010.0\n"
     ]
    }
   ],
   "source": [
    "#float() -> This function is used to convert any data type to a floating point number\n",
    "e = float(s) \n",
    "print (\"After converting to float : \", e)"
   ]
  },
  {
   "cell_type": "code",
   "execution_count": 3,
   "metadata": {},
   "outputs": [
    {
     "name": "stdout",
     "output_type": "stream",
     "text": [
      "After converting 56 to hexadecimal string :  0x38\n",
      "After converting 56 to octal string :  0o70\n"
     ]
    }
   ],
   "source": [
    "#hex() -> This function is to convert integer to hexadecimal string.\n",
    "#oct() -> This function is to convert integer to octal string.\n",
    "\n",
    "# initializing integer \n",
    "s = '4'\n",
    "  \n",
    "# printing integer converting to hexadecimal string \n",
    "c = hex(56) \n",
    "print (\"After converting 56 to hexadecimal string : \",c) \n",
    "  \n",
    "# printing integer converting to octal string \n",
    "c = oct(56) \n",
    "print (\"After converting 56 to octal string : \",c) "
   ]
  },
  {
   "cell_type": "code",
   "execution_count": 4,
   "metadata": {},
   "outputs": [
    {
     "name": "stdout",
     "output_type": "stream",
     "text": [
      "After converting string to tuple :  ('p', 'y', 't', 'h', 'o', 'n')\n",
      "After converting string to set :  {'y', 'h', 't', 'n', 'o', 'p'}\n",
      "After converting string to list :  ['p', 'y', 't', 'h', 'o', 'n']\n"
     ]
    }
   ],
   "source": [
    "#tuple() -> This function is used to convert to a tuple.\n",
    "    \n",
    "#set() -> This function returns the type after converting to set.\n",
    "    \n",
    "#list() -> This function is used to convert any data type to a list type.\n",
    "\n",
    "# initializing string \n",
    "s = 'python'\n",
    "  \n",
    "# printing string converting to tuple \n",
    "c = tuple(s) \n",
    "print (\"After converting string to tuple : \",c)  \n",
    "  \n",
    "# printing string converting to set \n",
    "c = set(s) \n",
    "print (\"After converting string to set : \",c) \n",
    "  \n",
    "# printing string converting to list \n",
    "c = list(s) \n",
    "print (\"After converting string to list : \",c) "
   ]
  },
  {
   "cell_type": "code",
   "execution_count": 5,
   "metadata": {},
   "outputs": [
    {
     "name": "stdout",
     "output_type": "stream",
     "text": [
      "After converting integer to complex number :  (1+2j)\n",
      "After converting integer to string :  1\n",
      "After converting tuple to dictionary :  {'a': 1, 'f': 2, 'g': 3}\n"
     ]
    }
   ],
   "source": [
    "#dict() -> This function is used to convert a tuple of order (key,value) into a dictionary.\n",
    "\n",
    "#str() -> Used to convert integer into a string.\n",
    "\n",
    "#complex(real,imag) -> This function converts real numbers to complex(real,imag) number.\n",
    "\n",
    "# initializing integers \n",
    "a = 1\n",
    "b = 2\n",
    "  \n",
    "# initializing tuple \n",
    "tup = (('a', 1) ,('f', 2), ('g', 3)) \n",
    "  \n",
    "# printing integer converting to complex number \n",
    "c = complex(1,2) \n",
    "print (\"After converting integer to complex number : \",c) \n",
    "  \n",
    "# printing integer converting to string \n",
    "c = str(a) \n",
    "print (\"After converting integer to string : \",c) \n",
    "  \n",
    "# printing tuple converting to expression dictionary \n",
    "c = dict(tup) \n",
    "print (\"After converting tuple to dictionary : \",c)  "
   ]
  },
  {
   "cell_type": "markdown",
   "metadata": {},
   "source": [
    "## Operators\n",
    "##### Arithmetic Operators\n",
    "#### Comparison Operators\n",
    "#### Logical Operators\n",
    "#### Assignment Operators\n",
    "#### Binary Operators\n",
    "#### Identity Operators\n",
    "#### Membership Operators\n",
    "## Arithmetic Operators\n",
    "#### Addition Operator ( + )\n",
    "#### Subtraction Operator ( - )\n",
    "#### Multiplication Operator ( * )\n",
    "#### Division Operator ( / )\n",
    "#### Modulas Operator ( % )\n",
    "#### Floor Division ( // )\n",
    "#### Exponent Operator ( ** )"
   ]
  },
  {
   "cell_type": "code",
   "execution_count": 6,
   "metadata": {},
   "outputs": [
    {
     "name": "stdout",
     "output_type": "stream",
     "text": [
      "Addition of 10 and 3 is 13.\n",
      "hello world\n",
      "[4, 5, 6, 1, 2, 3]\n",
      "('one', 'two', 'three', 'four', 'five', 'six')\n"
     ]
    },
    {
     "data": {
      "text/plain": [
       "' Sets can not be processed by Airthmatic Operators\\ns1 = { 1,2,3 }\\ns2 = { 4,5,6 }\\nprint(s1+s2)\\n'"
      ]
     },
     "execution_count": 6,
     "metadata": {},
     "output_type": "execute_result"
    }
   ],
   "source": [
    "#Addition Operator \n",
    "x = 10\n",
    "y = 3\n",
    "z = x + y\n",
    "print(\"Addition of {} and {} is {}.\".format(x,y,z))\n",
    "#Value of          x       y     z\n",
    "x = 'hello '\n",
    "y = 'world'\n",
    "print(x+y)\n",
    "l1 = [ 1,2,3]\n",
    "l2 = [ 4,5,6]\n",
    "print(l2 + l1 )\n",
    "t1 = ('one','two','three')\n",
    "t2 = ('four','five','six')\n",
    "print(t1+t2)\n",
    "''' Dictionary can not be processed by Airthmatic Operators\n",
    "d = { 1:'one',2:'two'}\n",
    "d1 = { 3:'three',4:'four'}\n",
    "print(d+d1)\n",
    "'''\n",
    "\"\"\" Sets can not be processed by Airthmatic Operators\n",
    "s1 = { 1,2,3 }\n",
    "s2 = { 4,5,6 }\n",
    "print(s1+s2)\n",
    "\"\"\""
   ]
  },
  {
   "cell_type": "code",
   "execution_count": 7,
   "metadata": {},
   "outputs": [
    {
     "name": "stdout",
     "output_type": "stream",
     "text": [
      "-40\n"
     ]
    },
    {
     "ename": "TypeError",
     "evalue": "unsupported operand type(s) for -: 'list' and 'list'",
     "output_type": "error",
     "traceback": [
      "\u001b[1;31m---------------------------------------------------------------------------\u001b[0m",
      "\u001b[1;31mTypeError\u001b[0m                                 Traceback (most recent call last)",
      "\u001b[1;32m<ipython-input-7-506a27a97943>\u001b[0m in \u001b[0;36m<module>\u001b[1;34m\u001b[0m\n\u001b[0;32m      8\u001b[0m \u001b[0ml1\u001b[0m \u001b[1;33m=\u001b[0m \u001b[1;33m[\u001b[0m \u001b[1;36m1\u001b[0m\u001b[1;33m,\u001b[0m\u001b[1;36m2\u001b[0m\u001b[1;33m,\u001b[0m\u001b[1;36m3\u001b[0m\u001b[1;33m]\u001b[0m \u001b[1;31m#list does not support subtraction operation\u001b[0m\u001b[1;33m\u001b[0m\u001b[0m\n\u001b[0;32m      9\u001b[0m \u001b[0ml2\u001b[0m \u001b[1;33m=\u001b[0m \u001b[1;33m[\u001b[0m \u001b[1;36m4\u001b[0m\u001b[1;33m,\u001b[0m\u001b[1;36m5\u001b[0m\u001b[1;33m,\u001b[0m\u001b[1;36m6\u001b[0m\u001b[1;33m]\u001b[0m\u001b[1;33m\u001b[0m\u001b[0m\n\u001b[1;32m---> 10\u001b[1;33m \u001b[0mprint\u001b[0m\u001b[1;33m(\u001b[0m\u001b[0ml1\u001b[0m\u001b[1;33m-\u001b[0m\u001b[0ml2\u001b[0m\u001b[1;33m)\u001b[0m\u001b[1;33m\u001b[0m\u001b[0m\n\u001b[0m",
      "\u001b[1;31mTypeError\u001b[0m: unsupported operand type(s) for -: 'list' and 'list'"
     ]
    }
   ],
   "source": [
    "#Subtraction Operator\n",
    "x = 10\n",
    "y = 50\n",
    "print(x-y)\n",
    "#s = 'hello'\n",
    "#l = 'world' #strings cannot be subtracted\n",
    "#print(s-l)\n",
    "l1 = [ 1,2,3] #list does not support subtraction operation\n",
    "l2 = [ 4,5,6]\n",
    "print(l1-l2)"
   ]
  },
  {
   "cell_type": "code",
   "execution_count": 8,
   "metadata": {},
   "outputs": [
    {
     "name": "stdout",
     "output_type": "stream",
     "text": [
      "1060\n",
      "Hello_World Hello_World Hello_World Hello_World Hello_World \n",
      " Hi  Hi  Hi \n",
      "[1, 2, 3, 1, 2, 3, 1, 2, 3]\n"
     ]
    },
    {
     "ename": "TypeError",
     "evalue": "can't multiply sequence by non-int of type 'list'",
     "output_type": "error",
     "traceback": [
      "\u001b[1;31m---------------------------------------------------------------------------\u001b[0m",
      "\u001b[1;31mTypeError\u001b[0m                                 Traceback (most recent call last)",
      "\u001b[1;32m<ipython-input-8-08d2d6128ac5>\u001b[0m in \u001b[0;36m<module>\u001b[1;34m\u001b[0m\n\u001b[0;32m     11\u001b[0m \u001b[0mprint\u001b[0m\u001b[1;33m(\u001b[0m\u001b[0ml1\u001b[0m\u001b[1;33m*\u001b[0m\u001b[1;36m3\u001b[0m\u001b[1;33m)\u001b[0m \u001b[1;31m#returns list 3 times\u001b[0m\u001b[1;33m\u001b[0m\u001b[0m\n\u001b[0;32m     12\u001b[0m \u001b[0ml2\u001b[0m \u001b[1;33m=\u001b[0m \u001b[1;33m[\u001b[0m \u001b[1;36m4\u001b[0m\u001b[1;33m,\u001b[0m\u001b[1;36m5\u001b[0m\u001b[1;33m,\u001b[0m\u001b[1;36m6\u001b[0m\u001b[1;33m]\u001b[0m\u001b[1;33m\u001b[0m\u001b[0m\n\u001b[1;32m---> 13\u001b[1;33m \u001b[0mprint\u001b[0m\u001b[1;33m(\u001b[0m\u001b[0ml1\u001b[0m\u001b[1;33m*\u001b[0m\u001b[0ml2\u001b[0m\u001b[1;33m)\u001b[0m \u001b[1;31m# does not support multiplication\u001b[0m\u001b[1;33m\u001b[0m\u001b[0m\n\u001b[0m",
      "\u001b[1;31mTypeError\u001b[0m: can't multiply sequence by non-int of type 'list'"
     ]
    }
   ],
   "source": [
    "#Multiplication Operator\n",
    "x = 53\n",
    "y = 20 \n",
    "print(x*y)\n",
    "s = 'Hello_World '\n",
    "k = ' Hi '\n",
    "#print(s*k)\n",
    "print(5*s)  #print s 5 times\n",
    "print(k*3) #print k 3 times\n",
    "l1 =[1,2,3]\n",
    "print(l1*3) #returns list 3 times\n",
    "l2 = [ 4,5,6]\n",
    "print(l1*l2) # does not support multiplication"
   ]
  },
  {
   "cell_type": "code",
   "execution_count": 9,
   "metadata": {},
   "outputs": [
    {
     "name": "stdout",
     "output_type": "stream",
     "text": [
      "4.416666666666667\n",
      "5\n",
      "4\n"
     ]
    }
   ],
   "source": [
    "#Division Operator\n",
    "x = 53\n",
    "y = 12\n",
    "print(x/y) #Absolute Division\n",
    "print(x%y) #Remainder\n",
    "print(x//y) #Quitont\n"
   ]
  },
  {
   "cell_type": "code",
   "execution_count": 10,
   "metadata": {},
   "outputs": [
    {
     "name": "stdout",
     "output_type": "stream",
     "text": [
      "125\n"
     ]
    }
   ],
   "source": [
    "#Exponent\n",
    "x = 5\n",
    "y = 3\n",
    "print(x**y)"
   ]
  },
  {
   "cell_type": "markdown",
   "metadata": {},
   "source": [
    "##### Comparison Operators\n",
    "#### Less Than ( < )\n",
    "#### Less Than Equals To ( <= )\n",
    "#### Greater Than ( > )\n",
    "#### Greater Than Equals To ( >= )\n",
    "#### Equals To Equals To ( == )\n",
    "#### Not Equals To ( != )"
   ]
  },
  {
   "cell_type": "code",
   "execution_count": 11,
   "metadata": {},
   "outputs": [
    {
     "name": "stdout",
     "output_type": "stream",
     "text": [
      "6 < 8  True\n",
      "8 < 6  False\n",
      "6 <= 6  True\n",
      "6 <= 3  False\n",
      "5 > 6  False\n",
      "6 > 5  True\n",
      "6 >= 6  True\n",
      "6 >= 5  True\n",
      "6 == 6  True\n",
      "6 == 7  False\n",
      "6 != 6  False\n",
      "6 != 7  True\n"
     ]
    }
   ],
   "source": [
    "#returns true if statement is True else returns False\n",
    "print(\"6 < 8 \", 6 < 8)\n",
    "print(\"8 < 6 \", 8 < 6)\n",
    "print(\"6 <= 6 \", 6 <= 6)\n",
    "print(\"6 <= 3 \", 6 <= 3)\n",
    "print(\"5 > 6 \", 5 > 6)\n",
    "print(\"6 > 5 \", 6 > 5 )\n",
    "print(\"6 >= 6 \", 6 >= 6)\n",
    "print(\"6 >= 5 \", 6 >= 5)\n",
    "print(\"6 == 6 \", 6 == 6)\n",
    "print(\"6 == 7 \",6 == 7)\n",
    "print(\"6 != 6 \", 6 != 6)\n",
    "print(\"6 != 7 \", 6 != 7)\n"
   ]
  },
  {
   "cell_type": "markdown",
   "metadata": {},
   "source": [
    "## Logical Operators¶\n",
    "### and\n",
    "###  or\n",
    "### not"
   ]
  },
  {
   "cell_type": "code",
   "execution_count": 12,
   "metadata": {},
   "outputs": [
    {
     "name": "stdout",
     "output_type": "stream",
     "text": [
      "0\n",
      "False\n",
      "False\n"
     ]
    }
   ],
   "source": [
    "print( 6-4*3+6 and 6 < 5 )\n",
    "print( 6-4*3+6 or 6 < 5)\n",
    "print( not True )"
   ]
  },
  {
   "cell_type": "code",
   "execution_count": 13,
   "metadata": {},
   "outputs": [
    {
     "name": "stdout",
     "output_type": "stream",
     "text": [
      "-12\n",
      "None\n"
     ]
    }
   ],
   "source": [
    "print( 6 and -12)  #because both are true hence the function returns any of these\n",
    "print( 1 and None) #here it is an and operation between true and false"
   ]
  },
  {
   "cell_type": "code",
   "execution_count": 14,
   "metadata": {},
   "outputs": [
    {
     "name": "stdout",
     "output_type": "stream",
     "text": [
      "{1: 'one'}\n"
     ]
    }
   ],
   "source": [
    "print( [1,2,3] and { 1 : 'one'})"
   ]
  },
  {
   "cell_type": "code",
   "execution_count": 15,
   "metadata": {},
   "outputs": [
    {
     "name": "stdout",
     "output_type": "stream",
     "text": [
      "X\tY\tand\tor\n",
      "True\tTrue\tTrue\tTrue\n",
      "True\tFalse\tFalse\tTrue\n",
      "False\tTrue\tFalse\tTrue\n",
      "False\tFalse\tFalse\tFalse\n"
     ]
    }
   ],
   "source": [
    "t = True\n",
    "f = False \n",
    "print(\"X\\tY\\tand\\tor\")\n",
    "print(\"{}\\t{}\\t{}\\t{}\".format(t, t, t and t, t or t))\n",
    "print(\"{}\\t{}\\t{}\\t{}\".format(t, f, t and f, t or f))\n",
    "print(\"{}\\t{}\\t{}\\t{}\".format(f, t, f and t, f or t))\n",
    "print(\"{}\\t{}\\t{}\\t{}\".format(f, f, f and f, f or f))"
   ]
  },
  {
   "cell_type": "code",
   "execution_count": 17,
   "metadata": {},
   "outputs": [
    {
     "name": "stdout",
     "output_type": "stream",
     "text": [
      "X\tnot\n",
      "True\tFalse\n",
      "False\tTrue\n"
     ]
    }
   ],
   "source": [
    "print(\"X\\tnot\")\n",
    "print(\"{}\\t{}\".format(True,not True))\n",
    "print(\"{}\\t{}\".format(False,not False))\n"
   ]
  },
  {
   "cell_type": "markdown",
   "metadata": {},
   "source": [
    "# ASSIGNMENT OPERATOR"
   ]
  },
  {
   "cell_type": "code",
   "execution_count": 18,
   "metadata": {},
   "outputs": [
    {
     "name": "stdout",
     "output_type": "stream",
     "text": [
      "something\n"
     ]
    }
   ],
   "source": [
    "x = 'something'\n",
    "print(x)"
   ]
  },
  {
   "cell_type": "code",
   "execution_count": 19,
   "metadata": {},
   "outputs": [
    {
     "name": "stdout",
     "output_type": "stream",
     "text": [
      "14.0\n"
     ]
    }
   ],
   "source": [
    "k = ( (6*5/2-5) and (6<4 or 3 > 6) ) or (10/2*3-1)\n",
    "print(k)"
   ]
  },
  {
   "cell_type": "markdown",
   "metadata": {},
   "source": [
    "x = 6+7\n",
    "print(x)\n",
    "x,y = 8,7\n",
    "l = ['hi','hello','how are you']\n",
    "a,b,c = l\n",
    "print(x,y,a,b,c)"
   ]
  },
  {
   "cell_type": "code",
   "execution_count": null,
   "metadata": {},
   "outputs": [],
   "source": []
  },
  {
   "cell_type": "code",
   "execution_count": 21,
   "metadata": {},
   "outputs": [
    {
     "name": "stdout",
     "output_type": "stream",
     "text": [
      "6 5\n",
      "10 -2 60\n"
     ]
    }
   ],
   "source": [
    "x = 5\n",
    "y = 6\n",
    "x,y=y,x\n",
    "print(x,y)\n",
    "a = 4\n",
    "b = 6\n",
    "c  = 10\n",
    "a,b,c=a+b,a-b,c*b\n",
    "print(a,b,c)"
   ]
  },
  {
   "cell_type": "markdown",
   "metadata": {},
   "source": [
    "# MEMBERSHIP OPERATOR"
   ]
  },
  {
   "cell_type": "code",
   "execution_count": 22,
   "metadata": {},
   "outputs": [
    {
     "name": "stdout",
     "output_type": "stream",
     "text": [
      "Pattern Found in step 1\n",
      "True\n",
      "False\n",
      "True\n",
      "False\n"
     ]
    }
   ],
   "source": [
    "# in , not in \n",
    "s2 = \"Dog is an animal.\"\n",
    "s1 = \"Dog\"\n",
    "x = s1 in s2\n",
    "if x :     \n",
    "    print(\"Pattern Found in step 1\")   #return this if x=True\n",
    "else :\n",
    "    print(\"Patten Not Found\")\n",
    "p = s1 not in s2\n",
    "y = s1 in s2\n",
    "q = s1 not in s2\n",
    "print(x)\n",
    "print(p)\n",
    "print(y)\n",
    "print(q)"
   ]
  },
  {
   "cell_type": "code",
   "execution_count": 23,
   "metadata": {},
   "outputs": [
    {
     "name": "stdout",
     "output_type": "stream",
     "text": [
      "l2 found in l1\n"
     ]
    }
   ],
   "source": [
    "l1 = [ 1,2,6,5,[3,4]]\n",
    "l2 = [ 3,4]\n",
    "if l2 in l1 :\n",
    "    print(\"l2 found in l1\")\n",
    "else :\n",
    "    print(\"No Pattern Found\")"
   ]
  },
  {
   "cell_type": "code",
   "execution_count": 24,
   "metadata": {},
   "outputs": [
    {
     "name": "stdout",
     "output_type": "stream",
     "text": [
      "Enter a number : 5\n",
      "No such number in our list\n"
     ]
    }
   ],
   "source": [
    "l = [ 1,2,6,324,23,4234,54,2342,3432]\n",
    "if int(input(\"Enter a number : \")) in l :   #takes input and convert it into int\n",
    "    print(\"Number found in list\")\n",
    "else :\n",
    "    print(\"No such number in our list\")"
   ]
  },
  {
   "cell_type": "markdown",
   "metadata": {},
   "source": [
    "# IDENTITY OPERATOR"
   ]
  },
  {
   "cell_type": "code",
   "execution_count": 25,
   "metadata": {},
   "outputs": [
    {
     "name": "stdout",
     "output_type": "stream",
     "text": [
      "True\n",
      "False\n",
      "Both are different\n"
     ]
    }
   ],
   "source": [
    "#is or is not\n",
    "x = 5\n",
    "y = 5\n",
    "print(x is y)\n",
    "print( x is not y )\n",
    "p = 3\n",
    "q = 4\n",
    "if p is q :\n",
    "    print(\"Both are equal\")\n",
    "else :\n",
    "    print(\"Both are different\")"
   ]
  },
  {
   "cell_type": "code",
   "execution_count": null,
   "metadata": {},
   "outputs": [],
   "source": []
  }
 ],
 "metadata": {
  "kernelspec": {
   "display_name": "Python 3",
   "language": "python",
   "name": "python3"
  },
  "language_info": {
   "codemirror_mode": {
    "name": "ipython",
    "version": 3
   },
   "file_extension": ".py",
   "mimetype": "text/x-python",
   "name": "python",
   "nbconvert_exporter": "python",
   "pygments_lexer": "ipython3",
   "version": "3.7.0"
  }
 },
 "nbformat": 4,
 "nbformat_minor": 2
}
