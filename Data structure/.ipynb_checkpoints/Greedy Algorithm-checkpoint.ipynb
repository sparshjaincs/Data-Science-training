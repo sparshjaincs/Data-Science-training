{
 "cells": [
  {
   "cell_type": "markdown",
   "metadata": {},
   "source": [
    "###  ....\n",
    "Different problems requires the use different kind of tecniques.Good programmer use all tecniques in order to solve problem in efficient way.\n",
    "some the tecinques are\n",
    "1. Divide and conqueror\n",
    "2. Greedy algorithm\n",
    "3. Dynamic programming\n",
    "4. Randomized algorithms\n"
   ]
  },
  {
   "cell_type": "markdown",
   "metadata": {},
   "source": [
    "# Greedy Algorithm\n"
   ]
  },
  {
   "cell_type": "markdown",
   "metadata": {},
   "source": [
    "###### ...\n",
    "An algorithm paradigm that follows the problem solving approach of making the locally optimal choice at each stage with the hope of finding a global optimium\n",
    "\n",
    "When to use?\n",
    "1. Greedy choice property : A global optimum solution can be arrived at by selecting a local optimum.\n",
    "2. optimal substructure :an optimal solution to the problem containsn an optimal solution to subproblems.\n"
   ]
  },
  {
   "cell_type": "markdown",
   "metadata": {},
   "source": [
    "#### Types\n",
    "1. Pure greedy algorithm\n",
    "2. orthogonal greedy algorithm\n",
    "3. relaxed greedy  algorithm"
   ]
  },
  {
   "cell_type": "markdown",
   "metadata": {},
   "source": [
    "### APPLICATIONS\n",
    "1. Activity selection problem\n",
    "2. Huffman coding\n",
    "3. Job sequencing problem\n",
    "4. Fractional knapsack problem'\n",
    "5. prims and kruskals algorithms\n",
    "6. Network routing\n",
    "7. Dijkistra algorithm\n",
    "8. scheduling problem\n",
    "9. Travelling salesman problem\n",
    "9. Combinatorial problems\n",
    "10. optimisation problem "
   ]
  },
  {
   "cell_type": "markdown",
   "metadata": {},
   "source": [
    "##### ..\n",
    "1. Feasible solutions : Feasible solutions is basically a solutions that satisfy the given constraints in the problem.\n",
    "2. optimal solution : Optimal solution is a solution which itself is feasible solution and also provides minimum costs. it is unique."
   ]
  },
  {
   "cell_type": "markdown",
   "metadata": {},
   "source": [
    "### Algorithm\n",
    "    (Greedy algorithm)GREEDY(a,n)\n",
    "    {\n",
    "        for i in range(n):\n",
    "            x=Select(a[i])\n",
    "            if Feasible(x) then,\n",
    "                solution+=1\n",
    "\n",
    "    }"
   ]
  },
  {
   "cell_type": "code",
   "execution_count": null,
   "metadata": {},
   "outputs": [],
   "source": []
  }
 ],
 "metadata": {
  "kernelspec": {
   "display_name": "Python 3",
   "language": "python",
   "name": "python3"
  },
  "language_info": {
   "codemirror_mode": {
    "name": "ipython",
    "version": 3
   },
   "file_extension": ".py",
   "mimetype": "text/x-python",
   "name": "python",
   "nbconvert_exporter": "python",
   "pygments_lexer": "ipython3",
   "version": "3.7.0"
  }
 },
 "nbformat": 4,
 "nbformat_minor": 2
}
