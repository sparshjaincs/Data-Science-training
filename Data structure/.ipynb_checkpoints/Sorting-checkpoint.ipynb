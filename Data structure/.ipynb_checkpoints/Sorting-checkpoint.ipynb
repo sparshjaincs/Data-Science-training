{
 "cells": [
  {
   "cell_type": "markdown",
   "metadata": {},
   "source": [
    "# Sorting"
   ]
  },
  {
   "cell_type": "markdown",
   "metadata": {},
   "source": [
    "## ...\n",
    "Sorting is a process of arranging items systematically in an ordered sequence.\n",
    "ordered sequence may be either increasing or decreasing.\n",
    "Sorting is very useful in an area where one has to search for an target value from the collection of data in a memory also, when merging and processing of sequence is required.\n",
    "\n",
    "The opposite of sorting, rearranging a sequence of items in a random or meaningless order, is called shuffling.\n",
    "\n",
    "Various Sorting algorithm \n",
    "1. Bubble sort\n",
    "2. Insertion Sort\n",
    "3. Merge sort\n",
    "4. Quick sort\n",
    "5. Selection sort\n",
    "6. Radix sort\n",
    "7. Heap sort\n"
   ]
  },
  {
   "cell_type": "markdown",
   "metadata": {},
   "source": [
    "### Insertion Sort\n",
    "\n",
    "Insertion  Sort is basically a sorting algorithm which finally gives a sorted list.\n",
    "It is less efficient algorithm for a large list perhaps there is various advanced algorithms there such as merge sort, heap sort , Quick sort.\n",
    "\n",
    "1. It is simple to implement\n",
    "2. Easy to understand\n",
    "3. Efficient for small list\n",
    "4. Adaptive\n",
    "\n",
    "Insertion sort basically compares every preceding element of list with the selected element in oreder to sort the given list\n",
    "during comparision if the preceeding element is greater then selected element then insertiom sort swaps these two element\n",
    "and this process continous till the whole does not get sorted.\n",
    "\n"
   ]
  },
  {
   "cell_type": "markdown",
   "metadata": {},
   "source": [
    "### Complexity\n",
    "    Worst case : O(n^2) comparisions\n",
    "    Best case :O(1) comparisions\n",
    "    Average case :O(n^2) Comparisions\n"
   ]
  },
  {
   "cell_type": "markdown",
   "metadata": {},
   "source": [
    "### Algorithm\n",
    "    (Insertion sort) Insert(A,N)\n",
    "    This algorithm sorts the array A with N elements\n",
    "    step1: repeat step 2 and 3 for i =1 .....N\n",
    "    step2:        set Temp= A[i] and ptr= i-1\n",
    "    step3:        Repeat while Temp<A[Ptr]:\n",
    "                    a) set A[Ptr+1] := A[Ptr]\n",
    "                    b) set Ptr := Ptr-1\n",
    "                [End while]\n",
    "    step4:Set A[Ptr+1] := Temp\n",
    "            [enf of for loop]\n",
    "    step 5: return"
   ]
  },
  {
   "cell_type": "code",
   "execution_count": 9,
   "metadata": {},
   "outputs": [
    {
     "name": "stdout",
     "output_type": "stream",
     "text": [
      "Enter Number of elements :8\n",
      "1\n",
      "3\n",
      "2\n",
      "4\n",
      "5\n",
      "6\n",
      "4\n",
      "7\n",
      "[1, 2, 3, 4, 4, 5, 6, 7]\n"
     ]
    }
   ],
   "source": [
    "n=int(input(\"Enter Number of elements :\"))\n",
    "A=[int(input()) for i in range(n)]\n",
    "for i in range(1,len(A)):\n",
    "    temp = A[i]\n",
    "    ptr = i-1\n",
    "    while ptr>=0 and temp<A[ptr]:\n",
    "        A[ptr+1]=A[ptr]\n",
    "        ptr -=1\n",
    "    A[ptr+1]=temp\n",
    "print(A)\n",
    "   "
   ]
  },
  {
   "cell_type": "code",
   "execution_count": null,
   "metadata": {},
   "outputs": [],
   "source": []
  },
  {
   "cell_type": "code",
   "execution_count": null,
   "metadata": {},
   "outputs": [],
   "source": []
  }
 ],
 "metadata": {
  "kernelspec": {
   "display_name": "Python 3",
   "language": "python",
   "name": "python3"
  },
  "language_info": {
   "codemirror_mode": {
    "name": "ipython",
    "version": 3
   },
   "file_extension": ".py",
   "mimetype": "text/x-python",
   "name": "python",
   "nbconvert_exporter": "python",
   "pygments_lexer": "ipython3",
   "version": "3.7.0"
  }
 },
 "nbformat": 4,
 "nbformat_minor": 2
}
