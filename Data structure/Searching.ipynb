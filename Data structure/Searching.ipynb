{
 "cells": [
  {
   "cell_type": "markdown",
   "metadata": {},
   "source": [
    "####  SEARCHING \n",
    "    Let suppose DATA be a data collection in memory and suppose a specific ITEM of information is given .\n",
    "    then Searching is process of finding a location of given specific item in the DATA .the Searching is said to be \n",
    "    successful if the given item is found in the DATA otherwise it is said to be unsuccessful.\n",
    "    Searching plays a very important role when one has to insert or delete or update information in the collection of data.\n",
    "    \n",
    "    "
   ]
  },
  {
   "cell_type": "markdown",
   "metadata": {},
   "source": [
    "### Linear Search\n",
    "Linear search or sequential search is a method of finding a given item within a list. It sequentially check each element within list until the match does not found.\n"
   ]
  },
  {
   "cell_type": "markdown",
   "metadata": {},
   "source": [
    "### Complexity\n",
    "The worst case occurs when one has to traverse whole list in order to find the given item and item does not appear in list.\n",
    "in this case alogorithm requires\n",
    "        f(n)=n+1 ,comparisions.\n",
    "The average case has n/2 Comparisions. But avg case can be affected by the search probabilities of items vary.\n",
    "the best case occurs when item is present in one position.  O(1) \n",
    "\n"
   ]
  },
  {
   "cell_type": "markdown",
   "metadata": {},
   "source": [
    "###  \n",
    "\n",
    "    Linear search is quite used when we have a list with few elements or we have to perform single search in an unordered \n",
    "    list. It is very simple to implement but it became less usefull when we have a list with many number of elements also it takes more time than binary search or hash tables for the completion of task.\n"
   ]
  },
  {
   "cell_type": "markdown",
   "metadata": {},
   "source": [
    "### Algorithm\n",
    "    (Linear search) Linear(DATA,N,Item,Loc)\n",
    "    Here,DATA is a data collection in a memory with N elements.\n",
    "    Item is a value that we have to search within DATA.\n",
    "    This algorithm finds the LOC of Given Item in DATA.\n",
    "    step1: [Insert Item at the end of the DATA] Set DATA[N+1]=Item.\n",
    "    step2: [Initialize Counter] Set LOC:=1\n",
    "    step3: [Search for Items]\n",
    "            Repeat while DATA[LOC]=!Item\n",
    "                Set LOC=+1\n",
    "            [End of while loop]\n",
    "    step4: If LOC=N=1, then Set LOC=1\n",
    "    step5: Exit"
   ]
  },
  {
   "cell_type": "markdown",
   "metadata": {},
   "source": []
  },
  {
   "cell_type": "code",
   "execution_count": 8,
   "metadata": {},
   "outputs": [
    {
     "name": "stdout",
     "output_type": "stream",
     "text": [
      "Enter Number of elements:5\n",
      "1\n",
      "2\n",
      "3\n",
      "4\n",
      "5\n",
      "Enter Element that you want to search:3\n",
      "2\n"
     ]
    }
   ],
   "source": [
    "n = int(input(\"Enter Number of elements:\"))\n",
    "DATA = [ int(input()) for i in range(n)]\n",
    "Item = int(input(\"Enter Element that you want to search:\"))\n",
    "LOC=0\n",
    "try:\n",
    "    while DATA[LOC]!=Item:\n",
    "        LOC+=1\n",
    "        flag=1\n",
    "except Exception as ex:\n",
    "    flag=0\n",
    "print(LOC) if flag==1 else print(\"Not Found\")"
   ]
  },
  {
   "cell_type": "markdown",
   "metadata": {},
   "source": [
    "## Implementation\n"
   ]
  },
  {
   "cell_type": "code",
   "execution_count": 2,
   "metadata": {},
   "outputs": [
    {
     "name": "stdout",
     "output_type": "stream",
     "text": [
      "Enter Number of elements:5\n",
      "2\n",
      "3\n",
      "4\n",
      "5\n",
      "1\n",
      "Enter Element that you want to search2\n",
      "2 is present at 1 position\n"
     ]
    }
   ],
   "source": [
    "# Let suppose we have an list DATA with n elements\n",
    "n = int(input(\"Enter Number of elements:\"))\n",
    "DATA = [ int(input()) for i in range(n)]\n",
    "Item = int(input(\"Enter Element that you want to search\"))\n",
    "LOC=0\n",
    "flag=0\n",
    "for x in DATA:\n",
    "        if x==Item:\n",
    "            LOC+=1\n",
    "            flag=1\n",
    "            break\n",
    "        else:\n",
    "            LOC+=1\n",
    "            flag=0\n",
    "if flag==1:\n",
    "    print(f\"{Item} is present at {LOC} position\")\n",
    "else:\n",
    "    print(f\"{Item} is not present in DATA\")"
   ]
  },
  {
   "cell_type": "markdown",
   "metadata": {},
   "source": [
    "### Binary search\n",
    "            Binary Search or half-interval search or logarithmic search is a method of finding location of target value within the sorted list.\n",
    "    Binary search compares the target value to the middle element of the list . if the element is not found in the half in which seraching was going on is eliminated and then searching continues in other half .  this process goes on till target value does not match with the middle element.\n",
    "    in binary search the always middle element is taken to compare with target value. if the search ends with the remaining part being empty then it means target value does not exist in the list\n",
    "    \n"
   ]
  },
  {
   "cell_type": "markdown",
   "metadata": {},
   "source": [
    "### Complexity\n",
    "    Binary search runs in logarithmic time\n",
    "    in worst case, it makes O(log(n)) comparisions"
   ]
  },
  {
   "cell_type": "markdown",
   "metadata": {},
   "source": [
    "### Limitation\n",
    "1. List must be sorted\n",
    "2. one should have direct access to the middle element of the list\n",
    "\n",
    "    binary search is very efficient (ie. it requires only 20 comparision with an initial list of 1 000 000 element.)"
   ]
  },
  {
   "cell_type": "markdown",
   "metadata": {},
   "source": [
    "### Algorithm\n",
    "    (Binary Search) BINARY(DATA,Item,LOC,LB,UB)\n",
    "    step1: Set BEG := LB, END :=UB, and MID=int((BEG+END)/2)\n",
    "    step2: Repeat Step 3 and 4 while BEG<=END and DATA[MID]!=Item\n",
    "    step3: If Item<DATA[MID] ,then:\n",
    "                END=MID-1\n",
    "           else:\n",
    "                BEG=MID+1\n",
    "            [End if If structure]\n",
    "    step4: Set MID := int((BEG+END)/2)\n",
    "    step5: If DATA[MID]= Item ,then:\n",
    "                Set LOC :=MID\n",
    "            else:\n",
    "                Set LOC := NULL\n",
    "            [End of If Structure]\n",
    "    step6: Exit"
   ]
  },
  {
   "cell_type": "markdown",
   "metadata": {},
   "source": [
    "## Implementation"
   ]
  },
  {
   "cell_type": "code",
   "execution_count": null,
   "metadata": {},
   "outputs": [],
   "source": [
    "n = int(input(\"Enter Number of elements:\"))\n",
    "DATA = sorted[ int(input()) for i in range(n)]\n",
    "Item = int(input(\"Enter Element that you want to search\"))\n",
    "LB=0\n",
    "UB=len(DATA)\n",
    "BEG=LB\n",
    "END=UB\n",
    "MID=int((BEG+END)/2)\n",
    "while BEG<=END and DATA[MID]!=Item:\n",
    "    if Item<DATA[MID]:\n",
    "        END=MID-1\n",
    "    else:\n",
    "        BEG=MID+1\n",
    "    MID=int((BEG+END)/2)\n",
    "if DATA[MID]==Item:\n",
    "    LOC=MID\n",
    "else:\n",
    "    LOC=0\n",
    "print(LOC)\n",
    "\n",
    "      \n",
    "\n"
   ]
  },
  {
   "cell_type": "code",
   "execution_count": null,
   "metadata": {},
   "outputs": [],
   "source": [
    "# Ternary search"
   ]
  },
  {
   "cell_type": "code",
   "execution_count": null,
   "metadata": {},
   "outputs": [],
   "source": []
  },
  {
   "cell_type": "code",
   "execution_count": null,
   "metadata": {},
   "outputs": [],
   "source": []
  }
 ],
 "metadata": {
  "kernelspec": {
   "display_name": "Python 3",
   "language": "python",
   "name": "python3"
  },
  "language_info": {
   "codemirror_mode": {
    "name": "ipython",
    "version": 3
   },
   "file_extension": ".py",
   "mimetype": "text/x-python",
   "name": "python",
   "nbconvert_exporter": "python",
   "pygments_lexer": "ipython3",
   "version": "3.7.0"
  }
 },
 "nbformat": 4,
 "nbformat_minor": 2
}
