{
 "cells": [
  {
   "cell_type": "markdown",
   "metadata": {},
   "source": [
    "# What is an array?"
   ]
  },
  {
   "cell_type": "markdown",
   "metadata": {},
   "source": [
    "###### Array is an collection of similar types of elements.\n",
    "###### Python does not support array data structure.\n",
    "###### That's Why we use numpy library for creating array.\n",
    "\n"
   ]
  },
  {
   "cell_type": "code",
   "execution_count": 1,
   "metadata": {},
   "outputs": [],
   "source": [
    "import numpy as np\n"
   ]
  },
  {
   "cell_type": "code",
   "execution_count": 2,
   "metadata": {},
   "outputs": [
    {
     "name": "stdout",
     "output_type": "stream",
     "text": [
      "['ALLOW_THREADS', 'AxisError', 'BUFSIZE', 'CLIP', 'ComplexWarning', 'DataSource', 'ERR_CALL', 'ERR_DEFAULT', 'ERR_IGNORE', 'ERR_LOG', 'ERR_PRINT', 'ERR_RAISE', 'ERR_WARN', 'FLOATING_POINT_SUPPORT', 'FPE_DIVIDEBYZERO', 'FPE_INVALID', 'FPE_OVERFLOW', 'FPE_UNDERFLOW', 'False_', 'Inf', 'Infinity', 'MAXDIMS', 'MAY_SHARE_BOUNDS', 'MAY_SHARE_EXACT', 'MachAr', 'ModuleDeprecationWarning', 'NAN', 'NINF', 'NZERO', 'NaN', 'PINF', 'PZERO', 'PackageLoader', 'RAISE', 'RankWarning', 'SHIFT_DIVIDEBYZERO', 'SHIFT_INVALID', 'SHIFT_OVERFLOW', 'SHIFT_UNDERFLOW', 'ScalarType', 'Tester', 'TooHardError', 'True_', 'UFUNC_BUFSIZE_DEFAULT', 'UFUNC_PYVALS_NAME', 'VisibleDeprecationWarning', 'WRAP', '_NoValue', '__NUMPY_SETUP__', '__all__', '__builtins__', '__cached__', '__config__', '__doc__', '__file__', '__git_revision__', '__loader__', '__name__', '__package__', '__path__', '__spec__', '__version__', '_distributor_init', '_globals', '_import_tools', '_mat', 'abs', 'absolute', 'absolute_import', 'add', 'add_docstring', 'add_newdoc', 'add_newdoc_ufunc', 'add_newdocs', 'alen', 'all', 'allclose', 'alltrue', 'amax', 'amin', 'angle', 'any', 'append', 'apply_along_axis', 'apply_over_axes', 'arange', 'arccos', 'arccosh', 'arcsin', 'arcsinh', 'arctan', 'arctan2', 'arctanh', 'argmax', 'argmin', 'argpartition', 'argsort', 'argwhere', 'around', 'array', 'array2string', 'array_equal', 'array_equiv', 'array_repr', 'array_split', 'array_str', 'asanyarray', 'asarray', 'asarray_chkfinite', 'ascontiguousarray', 'asfarray', 'asfortranarray', 'asmatrix', 'asscalar', 'atleast_1d', 'atleast_2d', 'atleast_3d', 'average', 'bartlett', 'base_repr', 'binary_repr', 'bincount', 'bitwise_and', 'bitwise_not', 'bitwise_or', 'bitwise_xor', 'blackman', 'block', 'bmat', 'bool', 'bool8', 'bool_', 'broadcast', 'broadcast_arrays', 'broadcast_to', 'busday_count', 'busday_offset', 'busdaycalendar', 'byte', 'byte_bounds', 'bytes0', 'bytes_', 'c_', 'can_cast', 'cast', 'cbrt', 'cdouble', 'ceil', 'cfloat', 'char', 'character', 'chararray', 'choose', 'clip', 'clongdouble', 'clongfloat', 'column_stack', 'common_type', 'compare_chararrays', 'compat', 'complex', 'complex128', 'complex64', 'complex_', 'complexfloating', 'compress', 'concatenate', 'conj', 'conjugate', 'convolve', 'copy', 'copysign', 'copyto', 'core', 'corrcoef', 'correlate', 'cos', 'cosh', 'count_nonzero', 'cov', 'cross', 'csingle', 'ctypeslib', 'cumprod', 'cumproduct', 'cumsum', 'datetime64', 'datetime_as_string', 'datetime_data', 'deg2rad', 'degrees', 'delete', 'deprecate', 'deprecate_with_doc', 'diag', 'diag_indices', 'diag_indices_from', 'diagflat', 'diagonal', 'diff', 'digitize', 'disp', 'divide', 'division', 'divmod', 'dot', 'double', 'dsplit', 'dstack', 'dtype', 'e', 'ediff1d', 'einsum', 'einsum_path', 'emath', 'empty', 'empty_like', 'equal', 'errstate', 'euler_gamma', 'exp', 'exp2', 'expand_dims', 'expm1', 'extract', 'eye', 'fabs', 'fastCopyAndTranspose', 'fft', 'fill_diagonal', 'find_common_type', 'finfo', 'fix', 'flatiter', 'flatnonzero', 'flexible', 'flip', 'fliplr', 'flipud', 'float', 'float16', 'float32', 'float64', 'float_', 'float_power', 'floating', 'floor', 'floor_divide', 'fmax', 'fmin', 'fmod', 'format_float_positional', 'format_float_scientific', 'format_parser', 'frexp', 'frombuffer', 'fromfile', 'fromfunction', 'fromiter', 'frompyfunc', 'fromregex', 'fromstring', 'full', 'full_like', 'fv', 'gcd', 'generic', 'genfromtxt', 'geomspace', 'get_array_wrap', 'get_include', 'get_printoptions', 'getbufsize', 'geterr', 'geterrcall', 'geterrobj', 'gradient', 'greater', 'greater_equal', 'half', 'hamming', 'hanning', 'heaviside', 'histogram', 'histogram2d', 'histogram_bin_edges', 'histogramdd', 'hsplit', 'hstack', 'hypot', 'i0', 'identity', 'iinfo', 'imag', 'in1d', 'index_exp', 'indices', 'inexact', 'inf', 'info', 'infty', 'inner', 'insert', 'int', 'int0', 'int16', 'int32', 'int64', 'int8', 'int_', 'int_asbuffer', 'intc', 'integer', 'interp', 'intersect1d', 'intp', 'invert', 'ipmt', 'irr', 'is_busday', 'isclose', 'iscomplex', 'iscomplexobj', 'isfinite', 'isfortran', 'isin', 'isinf', 'isnan', 'isnat', 'isneginf', 'isposinf', 'isreal', 'isrealobj', 'isscalar', 'issctype', 'issubclass_', 'issubdtype', 'issubsctype', 'iterable', 'ix_', 'kaiser', 'kron', 'lcm', 'ldexp', 'left_shift', 'less', 'less_equal', 'lexsort', 'lib', 'linalg', 'linspace', 'little_endian', 'load', 'loads', 'loadtxt', 'log', 'log10', 'log1p', 'log2', 'logaddexp', 'logaddexp2', 'logical_and', 'logical_not', 'logical_or', 'logical_xor', 'logspace', 'long', 'longcomplex', 'longdouble', 'longfloat', 'longlong', 'lookfor', 'ma', 'mafromtxt', 'mask_indices', 'mat', 'math', 'matmul', 'matrix', 'matrixlib', 'max', 'maximum', 'maximum_sctype', 'may_share_memory', 'mean', 'median', 'memmap', 'meshgrid', 'mgrid', 'min', 'min_scalar_type', 'minimum', 'mintypecode', 'mirr', 'mod', 'modf', 'moveaxis', 'msort', 'multiply', 'nan', 'nan_to_num', 'nanargmax', 'nanargmin', 'nancumprod', 'nancumsum', 'nanmax', 'nanmean', 'nanmedian', 'nanmin', 'nanpercentile', 'nanprod', 'nanquantile', 'nanstd', 'nansum', 'nanvar', 'nbytes', 'ndarray', 'ndenumerate', 'ndfromtxt', 'ndim', 'ndindex', 'nditer', 'negative', 'nested_iters', 'newaxis', 'nextafter', 'nonzero', 'not_equal', 'nper', 'npv', 'numarray', 'number', 'obj2sctype', 'object', 'object0', 'object_', 'ogrid', 'oldnumeric', 'ones', 'ones_like', 'outer', 'packbits', 'pad', 'partition', 'percentile', 'pi', 'piecewise', 'pkgload', 'place', 'pmt', 'poly', 'poly1d', 'polyadd', 'polyder', 'polydiv', 'polyfit', 'polyint', 'polymul', 'polynomial', 'polysub', 'polyval', 'positive', 'power', 'ppmt', 'print_function', 'printoptions', 'prod', 'product', 'promote_types', 'ptp', 'put', 'put_along_axis', 'putmask', 'pv', 'quantile', 'r_', 'rad2deg', 'radians', 'random', 'rank', 'rate', 'ravel', 'ravel_multi_index', 'real', 'real_if_close', 'rec', 'recarray', 'recfromcsv', 'recfromtxt', 'reciprocal', 'record', 'remainder', 'repeat', 'require', 'reshape', 'resize', 'result_type', 'right_shift', 'rint', 'roll', 'rollaxis', 'roots', 'rot90', 'round', 'round_', 'row_stack', 's_', 'safe_eval', 'save', 'savetxt', 'savez', 'savez_compressed', 'sctype2char', 'sctypeDict', 'sctypeNA', 'sctypes', 'searchsorted', 'select', 'set_numeric_ops', 'set_printoptions', 'set_string_function', 'setbufsize', 'setdiff1d', 'seterr', 'seterrcall', 'seterrobj', 'setxor1d', 'shape', 'shares_memory', 'short', 'show_config', 'sign', 'signbit', 'signedinteger', 'sin', 'sinc', 'single', 'singlecomplex', 'sinh', 'size', 'sometrue', 'sort', 'sort_complex', 'source', 'spacing', 'split', 'sqrt', 'square', 'squeeze', 'stack', 'std', 'str', 'str0', 'str_', 'string_', 'subtract', 'sum', 'swapaxes', 'sys', 'take', 'take_along_axis', 'tan', 'tanh', 'tensordot', 'test', 'testing', 'tile', 'timedelta64', 'trace', 'tracemalloc_domain', 'transpose', 'trapz', 'tri', 'tril', 'tril_indices', 'tril_indices_from', 'trim_zeros', 'triu', 'triu_indices', 'triu_indices_from', 'true_divide', 'trunc', 'typeDict', 'typeNA', 'typecodes', 'typename', 'ubyte', 'ufunc', 'uint', 'uint0', 'uint16', 'uint32', 'uint64', 'uint8', 'uintc', 'uintp', 'ulonglong', 'unicode', 'unicode_', 'union1d', 'unique', 'unpackbits', 'unravel_index', 'unsignedinteger', 'unwrap', 'ushort', 'vander', 'var', 'vdot', 'vectorize', 'version', 'void', 'void0', 'vsplit', 'vstack', 'warnings', 'where', 'who', 'zeros', 'zeros_like']\n"
     ]
    }
   ],
   "source": [
    "print(dir(np))"
   ]
  },
  {
   "cell_type": "code",
   "execution_count": 3,
   "metadata": {},
   "outputs": [
    {
     "data": {
      "text/plain": [
       "array([1, 2, 3, 4, 5, 6, 7, 8, 9])"
      ]
     },
     "execution_count": 3,
     "metadata": {},
     "output_type": "execute_result"
    }
   ],
   "source": [
    "array=np.array([1,2,3,4,5,6,7,8,9])  #  np.array(iterable,dtype)-->array\n",
    "array"
   ]
  },
  {
   "cell_type": "code",
   "execution_count": 5,
   "metadata": {},
   "outputs": [
    {
     "data": {
      "text/plain": [
       "array([2, 3, 4, 5])"
      ]
     },
     "execution_count": 5,
     "metadata": {},
     "output_type": "execute_result"
    }
   ],
   "source": [
    "array[1:5] # slicing is possible"
   ]
  },
  {
   "cell_type": "code",
   "execution_count": 6,
   "metadata": {},
   "outputs": [
    {
     "name": "stdout",
     "output_type": "stream",
     "text": [
      "<class 'list'>\n"
     ]
    }
   ],
   "source": [
    "l=[1,2,3,4,5]\n",
    "print(type(l))  ## list"
   ]
  },
  {
   "cell_type": "code",
   "execution_count": 8,
   "metadata": {},
   "outputs": [
    {
     "data": {
      "text/plain": [
       "array([1, 2, 3, 4, 5], dtype=int16)"
      ]
     },
     "execution_count": 8,
     "metadata": {},
     "output_type": "execute_result"
    }
   ],
   "source": [
    "# creating array using python bulit-in datatypes\n",
    "array1=np.array(l,dtype=np.int16)\n",
    "array1"
   ]
  },
  {
   "cell_type": "code",
   "execution_count": 10,
   "metadata": {},
   "outputs": [
    {
     "name": "stdout",
     "output_type": "stream",
     "text": [
      "<class 'numpy.ndarray'>\n"
     ]
    }
   ],
   "source": [
    "print(type(array1))"
   ]
  },
  {
   "cell_type": "code",
   "execution_count": 12,
   "metadata": {},
   "outputs": [
    {
     "data": {
      "text/plain": [
       "5"
      ]
     },
     "execution_count": 12,
     "metadata": {},
     "output_type": "execute_result"
    }
   ],
   "source": [
    "array1.size"
   ]
  },
  {
   "cell_type": "code",
   "execution_count": 13,
   "metadata": {},
   "outputs": [
    {
     "data": {
      "text/plain": [
       "(5,)"
      ]
     },
     "execution_count": 13,
     "metadata": {},
     "output_type": "execute_result"
    }
   ],
   "source": [
    "array1.shape"
   ]
  },
  {
   "cell_type": "code",
   "execution_count": 14,
   "metadata": {},
   "outputs": [
    {
     "data": {
      "text/plain": [
       "1"
      ]
     },
     "execution_count": 14,
     "metadata": {},
     "output_type": "execute_result"
    }
   ],
   "source": [
    "array.ndim"
   ]
  },
  {
   "cell_type": "code",
   "execution_count": 15,
   "metadata": {},
   "outputs": [
    {
     "data": {
      "text/plain": [
       "array([1, 2, 3, 4, 5, 6, 7, 8, 9])"
      ]
     },
     "execution_count": 15,
     "metadata": {},
     "output_type": "execute_result"
    }
   ],
   "source": [
    "array"
   ]
  },
  {
   "cell_type": "code",
   "execution_count": 16,
   "metadata": {},
   "outputs": [
    {
     "data": {
      "text/plain": [
       "3"
      ]
     },
     "execution_count": 16,
     "metadata": {},
     "output_type": "execute_result"
    }
   ],
   "source": [
    "array[2]"
   ]
  },
  {
   "cell_type": "code",
   "execution_count": 18,
   "metadata": {},
   "outputs": [
    {
     "data": {
      "text/plain": [
       "array([1, 3, 5, 7, 9])"
      ]
     },
     "execution_count": 18,
     "metadata": {},
     "output_type": "execute_result"
    }
   ],
   "source": [
    "array[::2]"
   ]
  },
  {
   "cell_type": "code",
   "execution_count": 19,
   "metadata": {},
   "outputs": [
    {
     "data": {
      "text/plain": [
       "array([9, 7, 5, 3, 1])"
      ]
     },
     "execution_count": 19,
     "metadata": {},
     "output_type": "execute_result"
    }
   ],
   "source": [
    "array[::-2]"
   ]
  },
  {
   "cell_type": "code",
   "execution_count": 20,
   "metadata": {},
   "outputs": [
    {
     "data": {
      "text/plain": [
       "array([1, 3, 5])"
      ]
     },
     "execution_count": 20,
     "metadata": {},
     "output_type": "execute_result"
    }
   ],
   "source": [
    "array[:5:2]"
   ]
  },
  {
   "cell_type": "code",
   "execution_count": 21,
   "metadata": {},
   "outputs": [
    {
     "data": {
      "text/plain": [
       "array([2, 4, 6, 8])"
      ]
     },
     "execution_count": 21,
     "metadata": {},
     "output_type": "execute_result"
    }
   ],
   "source": [
    "array[[1,3,5,7]]   # this is array specific"
   ]
  },
  {
   "cell_type": "code",
   "execution_count": 23,
   "metadata": {},
   "outputs": [
    {
     "data": {
      "text/plain": [
       "array([1, 3, 7, 8])"
      ]
     },
     "execution_count": 23,
     "metadata": {},
     "output_type": "execute_result"
    }
   ],
   "source": [
    "array[[True,False,True,False,False,False,True,True,False]]"
   ]
  },
  {
   "cell_type": "code",
   "execution_count": 24,
   "metadata": {},
   "outputs": [
    {
     "data": {
      "text/plain": [
       "array([ 3,  4,  5,  6,  7,  8,  9, 10, 11])"
      ]
     },
     "execution_count": 24,
     "metadata": {},
     "output_type": "execute_result"
    }
   ],
   "source": [
    "array+2"
   ]
  },
  {
   "cell_type": "code",
   "execution_count": 25,
   "metadata": {},
   "outputs": [
    {
     "data": {
      "text/plain": [
       "array([-1,  0,  1,  2,  3,  4,  5,  6,  7])"
      ]
     },
     "execution_count": 25,
     "metadata": {},
     "output_type": "execute_result"
    }
   ],
   "source": [
    "array-2"
   ]
  },
  {
   "cell_type": "code",
   "execution_count": 26,
   "metadata": {},
   "outputs": [
    {
     "data": {
      "text/plain": [
       "array([ 2,  4,  6,  8, 10, 12, 14, 16, 18])"
      ]
     },
     "execution_count": 26,
     "metadata": {},
     "output_type": "execute_result"
    }
   ],
   "source": [
    "array*2"
   ]
  },
  {
   "cell_type": "code",
   "execution_count": 27,
   "metadata": {},
   "outputs": [
    {
     "data": {
      "text/plain": [
       "array([0.5, 1. , 1.5, 2. , 2.5, 3. , 3.5, 4. , 4.5])"
      ]
     },
     "execution_count": 27,
     "metadata": {},
     "output_type": "execute_result"
    }
   ],
   "source": [
    "array/2"
   ]
  },
  {
   "cell_type": "code",
   "execution_count": 28,
   "metadata": {},
   "outputs": [
    {
     "data": {
      "text/plain": [
       "array([ 1,  4,  9, 16, 25, 36, 49, 64, 81], dtype=int32)"
      ]
     },
     "execution_count": 28,
     "metadata": {},
     "output_type": "execute_result"
    }
   ],
   "source": [
    "array**2"
   ]
  },
  {
   "cell_type": "code",
   "execution_count": 29,
   "metadata": {},
   "outputs": [
    {
     "data": {
      "text/plain": [
       "array([0, 1, 1, 2, 2, 3, 3, 4, 4], dtype=int32)"
      ]
     },
     "execution_count": 29,
     "metadata": {},
     "output_type": "execute_result"
    }
   ],
   "source": [
    "array//2"
   ]
  },
  {
   "cell_type": "code",
   "execution_count": 32,
   "metadata": {},
   "outputs": [
    {
     "name": "stdout",
     "output_type": "stream",
     "text": [
      "[6 4 9 6 5] [17 14 19 18 18]\n"
     ]
    }
   ],
   "source": [
    "a=np.random.randint(1,10,5)\n",
    "b=np.random.randint(11,20,5)\n",
    "print(a,b)"
   ]
  },
  {
   "cell_type": "code",
   "execution_count": 34,
   "metadata": {},
   "outputs": [
    {
     "data": {
      "text/plain": [
       "array([102,  56, 171, 108,  90])"
      ]
     },
     "execution_count": 34,
     "metadata": {},
     "output_type": "execute_result"
    }
   ],
   "source": [
    "a*b   # element wise multiplication"
   ]
  },
  {
   "cell_type": "code",
   "execution_count": 36,
   "metadata": {},
   "outputs": [
    {
     "data": {
      "text/plain": [
       "527"
      ]
     },
     "execution_count": 36,
     "metadata": {},
     "output_type": "execute_result"
    }
   ],
   "source": [
    "a@b   # matrix multiplication"
   ]
  },
  {
   "cell_type": "code",
   "execution_count": 52,
   "metadata": {},
   "outputs": [
    {
     "data": {
      "text/plain": [
       "array([2, 9, 1, 9, 1, 8, 5, 9, 2, 8, 5, 9, 5, 8, 9, 5, 4, 7, 9, 1])"
      ]
     },
     "execution_count": 52,
     "metadata": {},
     "output_type": "execute_result"
    }
   ],
   "source": [
    "ar=np.random.randint(1,10,20)\n",
    "ar\n"
   ]
  },
  {
   "cell_type": "code",
   "execution_count": 54,
   "metadata": {},
   "outputs": [
    {
     "data": {
      "text/plain": [
       "5.8"
      ]
     },
     "execution_count": 54,
     "metadata": {},
     "output_type": "execute_result"
    }
   ],
   "source": [
    "np.mean(ar)"
   ]
  },
  {
   "cell_type": "code",
   "execution_count": 55,
   "metadata": {},
   "outputs": [
    {
     "data": {
      "text/plain": [
       "6.0"
      ]
     },
     "execution_count": 55,
     "metadata": {},
     "output_type": "execute_result"
    }
   ],
   "source": [
    "np.median(ar)"
   ]
  },
  {
   "cell_type": "code",
   "execution_count": 53,
   "metadata": {},
   "outputs": [
    {
     "data": {
      "text/plain": [
       "9"
      ]
     },
     "execution_count": 53,
     "metadata": {},
     "output_type": "execute_result"
    }
   ],
   "source": [
    "from statistics import mode\n",
    "mode(ar)"
   ]
  },
  {
   "cell_type": "code",
   "execution_count": 56,
   "metadata": {},
   "outputs": [
    {
     "data": {
      "text/plain": [
       "array([1.41421356, 3.        , 1.        , 3.        , 1.        ,\n",
       "       2.82842712, 2.23606798, 3.        , 1.41421356, 2.82842712,\n",
       "       2.23606798, 3.        , 2.23606798, 2.82842712, 3.        ,\n",
       "       2.23606798, 2.        , 2.64575131, 3.        , 1.        ])"
      ]
     },
     "execution_count": 56,
     "metadata": {},
     "output_type": "execute_result"
    }
   ],
   "source": [
    "np.sqrt(ar)"
   ]
  },
  {
   "cell_type": "code",
   "execution_count": 58,
   "metadata": {},
   "outputs": [
    {
     "data": {
      "text/plain": [
       "array([ 0.90929743,  0.41211849,  0.84147098,  0.41211849,  0.84147098,\n",
       "        0.98935825, -0.95892427,  0.41211849,  0.90929743,  0.98935825,\n",
       "       -0.95892427,  0.41211849, -0.95892427,  0.98935825,  0.41211849,\n",
       "       -0.95892427, -0.7568025 ,  0.6569866 ,  0.41211849,  0.84147098])"
      ]
     },
     "execution_count": 58,
     "metadata": {},
     "output_type": "execute_result"
    }
   ],
   "source": [
    "np.sin(ar)"
   ]
  },
  {
   "cell_type": "code",
   "execution_count": 59,
   "metadata": {},
   "outputs": [
    {
     "data": {
      "text/plain": [
       "array([-0.41614684, -0.91113026,  0.54030231, -0.91113026,  0.54030231,\n",
       "       -0.14550003,  0.28366219, -0.91113026, -0.41614684, -0.14550003,\n",
       "        0.28366219, -0.91113026,  0.28366219, -0.14550003, -0.91113026,\n",
       "        0.28366219, -0.65364362,  0.75390225, -0.91113026,  0.54030231])"
      ]
     },
     "execution_count": 59,
     "metadata": {},
     "output_type": "execute_result"
    }
   ],
   "source": [
    "np.cos(ar)"
   ]
  },
  {
   "cell_type": "code",
   "execution_count": 60,
   "metadata": {},
   "outputs": [
    {
     "data": {
      "text/plain": [
       "array([-2.18503986, -0.45231566,  1.55740772, -0.45231566,  1.55740772,\n",
       "       -6.79971146, -3.38051501, -0.45231566, -2.18503986, -6.79971146,\n",
       "       -3.38051501, -0.45231566, -3.38051501, -6.79971146, -0.45231566,\n",
       "       -3.38051501,  1.15782128,  0.87144798, -0.45231566,  1.55740772])"
      ]
     },
     "execution_count": 60,
     "metadata": {},
     "output_type": "execute_result"
    }
   ],
   "source": [
    "np.tan(ar)"
   ]
  },
  {
   "cell_type": "code",
   "execution_count": 62,
   "metadata": {},
   "outputs": [
    {
     "data": {
      "text/plain": [
       "array([0.69314718, 2.19722458, 0.        , 2.19722458, 0.        ,\n",
       "       2.07944154, 1.60943791, 2.19722458, 0.69314718, 2.07944154,\n",
       "       1.60943791, 2.19722458, 1.60943791, 2.07944154, 2.19722458,\n",
       "       1.60943791, 1.38629436, 1.94591015, 2.19722458, 0.        ])"
      ]
     },
     "execution_count": 62,
     "metadata": {},
     "output_type": "execute_result"
    }
   ],
   "source": [
    "np.log(ar)"
   ]
  },
  {
   "cell_type": "code",
   "execution_count": 63,
   "metadata": {},
   "outputs": [
    {
     "data": {
      "text/plain": [
       "array([0.30103   , 0.95424251, 0.        , 0.95424251, 0.        ,\n",
       "       0.90308999, 0.69897   , 0.95424251, 0.30103   , 0.90308999,\n",
       "       0.69897   , 0.95424251, 0.69897   , 0.90308999, 0.95424251,\n",
       "       0.69897   , 0.60205999, 0.84509804, 0.95424251, 0.        ])"
      ]
     },
     "execution_count": 63,
     "metadata": {},
     "output_type": "execute_result"
    }
   ],
   "source": [
    "np.log10(ar)"
   ]
  },
  {
   "cell_type": "code",
   "execution_count": 64,
   "metadata": {},
   "outputs": [
    {
     "data": {
      "text/plain": [
       "array([2., 9., 1., 9., 1., 8., 5., 9., 2., 8., 5., 9., 5., 8., 9., 5., 4.,\n",
       "       7., 9., 1.])"
      ]
     },
     "execution_count": 64,
     "metadata": {},
     "output_type": "execute_result"
    }
   ],
   "source": [
    "np.floor(ar)"
   ]
  },
  {
   "cell_type": "code",
   "execution_count": 65,
   "metadata": {},
   "outputs": [
    {
     "data": {
      "text/plain": [
       "array([2., 9., 1., 9., 1., 8., 5., 9., 2., 8., 5., 9., 5., 8., 9., 5., 4.,\n",
       "       7., 9., 1.])"
      ]
     },
     "execution_count": 65,
     "metadata": {},
     "output_type": "execute_result"
    }
   ],
   "source": [
    "np.ceil(ar)"
   ]
  },
  {
   "cell_type": "code",
   "execution_count": 66,
   "metadata": {},
   "outputs": [
    {
     "data": {
      "text/plain": [
       "array([7.38905610e+00, 8.10308393e+03, 2.71828183e+00, 8.10308393e+03,\n",
       "       2.71828183e+00, 2.98095799e+03, 1.48413159e+02, 8.10308393e+03,\n",
       "       7.38905610e+00, 2.98095799e+03, 1.48413159e+02, 8.10308393e+03,\n",
       "       1.48413159e+02, 2.98095799e+03, 8.10308393e+03, 1.48413159e+02,\n",
       "       5.45981500e+01, 1.09663316e+03, 8.10308393e+03, 2.71828183e+00])"
      ]
     },
     "execution_count": 66,
     "metadata": {},
     "output_type": "execute_result"
    }
   ],
   "source": [
    "np.exp(ar)"
   ]
  },
  {
   "cell_type": "code",
   "execution_count": 67,
   "metadata": {},
   "outputs": [],
   "source": [
    "l2 = [ \n",
    "    \n",
    "    [ 5, 6, 7, 8, 9 ],\n",
    "    [ 2, 4, 6, 5, 3 ],\n",
    "    [ 1, 2, 3, 4, 5 ]\n",
    "\n",
    "]"
   ]
  },
  {
   "cell_type": "code",
   "execution_count": 68,
   "metadata": {},
   "outputs": [
    {
     "data": {
      "text/plain": [
       "array([[5, 6, 7, 8, 9],\n",
       "       [2, 4, 6, 5, 3],\n",
       "       [1, 2, 3, 4, 5]], dtype=int16)"
      ]
     },
     "execution_count": 68,
     "metadata": {},
     "output_type": "execute_result"
    }
   ],
   "source": [
    "arr=np.array(l2,dtype=np.int16)\n",
    "arr"
   ]
  },
  {
   "cell_type": "code",
   "execution_count": 70,
   "metadata": {},
   "outputs": [
    {
     "name": "stdout",
     "output_type": "stream",
     "text": [
      "Size of array=15\n",
      "Shape of array=(3, 5)\n",
      "Dimension of array=2\n"
     ]
    }
   ],
   "source": [
    "print(f\"Size of array={arr.size}\\nShape of array={arr.shape}\\nDimension of array={arr.ndim}\")"
   ]
  },
  {
   "cell_type": "code",
   "execution_count": 72,
   "metadata": {},
   "outputs": [],
   "source": [
    "# array[row,column]"
   ]
  },
  {
   "cell_type": "code",
   "execution_count": 76,
   "metadata": {},
   "outputs": [
    {
     "data": {
      "text/plain": [
       "5"
      ]
     },
     "execution_count": 76,
     "metadata": {},
     "output_type": "execute_result"
    }
   ],
   "source": [
    "arr[1,3]"
   ]
  },
  {
   "cell_type": "code",
   "execution_count": 77,
   "metadata": {},
   "outputs": [
    {
     "data": {
      "text/plain": [
       "4"
      ]
     },
     "execution_count": 77,
     "metadata": {},
     "output_type": "execute_result"
    }
   ],
   "source": [
    "arr[1,1]"
   ]
  },
  {
   "cell_type": "code",
   "execution_count": 78,
   "metadata": {},
   "outputs": [
    {
     "data": {
      "text/plain": [
       "5"
      ]
     },
     "execution_count": 78,
     "metadata": {},
     "output_type": "execute_result"
    }
   ],
   "source": [
    "arr[-2,-2]"
   ]
  },
  {
   "cell_type": "code",
   "execution_count": 79,
   "metadata": {},
   "outputs": [
    {
     "data": {
      "text/plain": [
       "array([[5, 6, 7, 8, 9],\n",
       "       [2, 4, 6, 5, 3],\n",
       "       [1, 2, 3, 4, 5]], dtype=int16)"
      ]
     },
     "execution_count": 79,
     "metadata": {},
     "output_type": "execute_result"
    }
   ],
   "source": [
    "arr"
   ]
  },
  {
   "cell_type": "code",
   "execution_count": 80,
   "metadata": {},
   "outputs": [
    {
     "data": {
      "text/plain": [
       "array([[5, 7, 9],\n",
       "       [1, 3, 5]], dtype=int16)"
      ]
     },
     "execution_count": 80,
     "metadata": {},
     "output_type": "execute_result"
    }
   ],
   "source": [
    "arr[::2,::2]"
   ]
  },
  {
   "cell_type": "code",
   "execution_count": 82,
   "metadata": {},
   "outputs": [
    {
     "data": {
      "text/plain": [
       "array([0, 1, 2, 3, 4, 5, 6, 7, 8, 9])"
      ]
     },
     "execution_count": 82,
     "metadata": {},
     "output_type": "execute_result"
    }
   ],
   "source": [
    "###### np.arange(start,stop,step)---->array \n",
    "a=np.arange(10)\n",
    "a\n",
    "\n"
   ]
  },
  {
   "cell_type": "code",
   "execution_count": 83,
   "metadata": {},
   "outputs": [
    {
     "name": "stdout",
     "output_type": "stream",
     "text": [
      "Enter a number : 12\n"
     ]
    },
    {
     "data": {
      "text/plain": [
       "array([ 12,  24,  36,  48,  60,  72,  84,  96, 108, 120])"
      ]
     },
     "execution_count": 83,
     "metadata": {},
     "output_type": "execute_result"
    }
   ],
   "source": [
    "# it will table array of any number which is taken by input\n",
    "x = int(input(\"Enter a number : \"))\n",
    "a = np.arange(x,x*10+1,x)\n",
    "a"
   ]
  },
  {
   "cell_type": "code",
   "execution_count": 84,
   "metadata": {},
   "outputs": [
    {
     "data": {
      "text/plain": [
       "array([  1,   2,   3,   4,   5,   6,   7,   8,   9,  10,  11,  12,  13,\n",
       "        14,  15,  16,  17,  18,  19,  20,  21,  22,  23,  24,  25,  26,\n",
       "        27,  28,  29,  30,  31,  32,  33,  34,  35,  36,  37,  38,  39,\n",
       "        40,  41,  42,  43,  44,  45,  46,  47,  48,  49,  50,  51,  52,\n",
       "        53,  54,  55,  56,  57,  58,  59,  60,  61,  62,  63,  64,  65,\n",
       "        66,  67,  68,  69,  70,  71,  72,  73,  74,  75,  76,  77,  78,\n",
       "        79,  80,  81,  82,  83,  84,  85,  86,  87,  88,  89,  90,  91,\n",
       "        92,  93,  94,  95,  96,  97,  98,  99, 100])"
      ]
     },
     "execution_count": 84,
     "metadata": {},
     "output_type": "execute_result"
    }
   ],
   "source": [
    "aa=np.arange(1,101)\n",
    "aa"
   ]
  },
  {
   "cell_type": "markdown",
   "metadata": {},
   "source": [
    "######   array.reshape(row,column)\n",
    "#####   used to change shape of array\n",
    "#####   multiplication of row and column must be equal to size of array\n"
   ]
  },
  {
   "cell_type": "code",
   "execution_count": 89,
   "metadata": {},
   "outputs": [
    {
     "data": {
      "text/plain": [
       "array([[  1,   2,   3,   4,   5,   6,   7,   8,   9,  10],\n",
       "       [ 11,  12,  13,  14,  15,  16,  17,  18,  19,  20],\n",
       "       [ 21,  22,  23,  24,  25,  26,  27,  28,  29,  30],\n",
       "       [ 31,  32,  33,  34,  35,  36,  37,  38,  39,  40],\n",
       "       [ 41,  42,  43,  44,  45,  46,  47,  48,  49,  50],\n",
       "       [ 51,  52,  53,  54,  55,  56,  57,  58,  59,  60],\n",
       "       [ 61,  62,  63,  64,  65,  66,  67,  68,  69,  70],\n",
       "       [ 71,  72,  73,  74,  75,  76,  77,  78,  79,  80],\n",
       "       [ 81,  82,  83,  84,  85,  86,  87,  88,  89,  90],\n",
       "       [ 91,  92,  93,  94,  95,  96,  97,  98,  99, 100]])"
      ]
     },
     "execution_count": 89,
     "metadata": {},
     "output_type": "execute_result"
    }
   ],
   "source": [
    "x=aa.reshape(10,10)\n",
    "x"
   ]
  },
  {
   "cell_type": "code",
   "execution_count": 91,
   "metadata": {},
   "outputs": [
    {
     "data": {
      "text/plain": [
       "array([[  0,   2,   3,   0,   5,   6,   0,   8,   9,   0],\n",
       "       [ 11,  12,  13,  14,  15,  16,  17,  18,  19,  20],\n",
       "       [  0,  22,  23,   0,  25,  26,   0,  28,  29,   0],\n",
       "       [ 31,  32,  33,  34,  35,  36,  37,  38,  39,  40],\n",
       "       [  0,  42,  43,   0,  45,  46,   0,  48,  49,   0],\n",
       "       [ 51,  52,  53,  54,  55,  56,  57,  58,  59,  60],\n",
       "       [  0,  62,  63,   0,  65,  66,   0,  68,  69,   0],\n",
       "       [ 71,  72,  73,  74,  75,  76,  77,  78,  79,  80],\n",
       "       [  0,  82,  83,   0,  85,  86,   0,  88,  89,   0],\n",
       "       [ 91,  92,  93,  94,  95,  96,  97,  98,  99, 100]])"
      ]
     },
     "execution_count": 91,
     "metadata": {},
     "output_type": "execute_result"
    }
   ],
   "source": [
    "x[::2,::3]=0\n",
    "x"
   ]
  },
  {
   "cell_type": "code",
   "execution_count": 93,
   "metadata": {},
   "outputs": [
    {
     "data": {
      "text/plain": [
       "array([ 1. ,  2.8,  4.6,  6.4,  8.2, 10. ])"
      ]
     },
     "execution_count": 93,
     "metadata": {},
     "output_type": "execute_result"
    }
   ],
   "source": [
    "n=np.linspace(1,10,6)   ###  np.linesapce(start,stop,no.of elements)-->array of equally seperated values\n",
    "n"
   ]
  },
  {
   "cell_type": "code",
   "execution_count": 96,
   "metadata": {},
   "outputs": [
    {
     "data": {
      "text/plain": [
       "array([1., 1., 1., 1., 1., 1., 1., 1., 1., 1.])"
      ]
     },
     "execution_count": 96,
     "metadata": {},
     "output_type": "execute_result"
    }
   ],
   "source": [
    "n=np.ones(10)\n",
    "n"
   ]
  },
  {
   "cell_type": "code",
   "execution_count": 98,
   "metadata": {},
   "outputs": [
    {
     "data": {
      "text/plain": [
       "array([0., 0., 0., 0., 0., 0., 0., 0., 0., 0.])"
      ]
     },
     "execution_count": 98,
     "metadata": {},
     "output_type": "execute_result"
    }
   ],
   "source": [
    "n=np.zeros(10)\n",
    "n"
   ]
  },
  {
   "cell_type": "code",
   "execution_count": 100,
   "metadata": {},
   "outputs": [
    {
     "data": {
      "text/plain": [
       "array([[1., 0., 0., 0., 0.],\n",
       "       [0., 1., 0., 0., 0.],\n",
       "       [0., 0., 1., 0., 0.],\n",
       "       [0., 0., 0., 1., 0.],\n",
       "       [0., 0., 0., 0., 1.]])"
      ]
     },
     "execution_count": 100,
     "metadata": {},
     "output_type": "execute_result"
    }
   ],
   "source": [
    "a=np.eye(5)\n",
    "a"
   ]
  },
  {
   "cell_type": "code",
   "execution_count": 102,
   "metadata": {},
   "outputs": [
    {
     "data": {
      "text/plain": [
       "array([0.09946164, 0.90435349, 0.85215414, 0.67675253, 0.38498995])"
      ]
     },
     "execution_count": 102,
     "metadata": {},
     "output_type": "execute_result"
    }
   ],
   "source": [
    "np.random.sample(5)"
   ]
  },
  {
   "cell_type": "code",
   "execution_count": 104,
   "metadata": {},
   "outputs": [
    {
     "data": {
      "text/plain": [
       "array([33.92063903, 10.60011979, 82.48691744, 75.56190962, 22.42222745])"
      ]
     },
     "execution_count": 104,
     "metadata": {},
     "output_type": "execute_result"
    }
   ],
   "source": [
    "x=np.random.sample(5)*100+5\n",
    "x"
   ]
  },
  {
   "cell_type": "code",
   "execution_count": 105,
   "metadata": {},
   "outputs": [],
   "source": [
    "#### Data visulaisation"
   ]
  },
  {
   "cell_type": "code",
   "execution_count": 108,
   "metadata": {},
   "outputs": [],
   "source": [
    "import matplotlib.pyplot as plt\n",
    "%matplotlib inline"
   ]
  },
  {
   "cell_type": "code",
   "execution_count": 111,
   "metadata": {},
   "outputs": [
    {
     "data": {
      "text/plain": [
       "array([91, 31, 64, 64, 69, 86, 40, 51, 73, 89, 57,  4, 48, 80, 99, 78, 72,\n",
       "       96, 37, 19, 16, 27, 67, 57, 79, 76, 43, 59, 24, 82, 99, 85, 28, 61,\n",
       "       11, 41, 49,  1, 60, 66, 52, 48, 60, 41, 38,  8, 87, 98, 37, 17, 76,\n",
       "       90, 31, 28, 45, 53, 27, 70,  3, 19, 41,  8, 58, 23, 97, 81, 16, 28,\n",
       "       67, 80, 73, 96, 75, 84, 26, 41, 30, 42, 23, 10, 89, 62, 54, 97, 28,\n",
       "       33,  3, 45, 52, 91, 63, 47, 59, 67, 48, 42, 89, 75, 55, 41])"
      ]
     },
     "execution_count": 111,
     "metadata": {},
     "output_type": "execute_result"
    }
   ],
   "source": [
    "array=np.random.randint(1,100,100)\n",
    "array"
   ]
  },
  {
   "cell_type": "code",
   "execution_count": 118,
   "metadata": {},
   "outputs": [
    {
     "data": {
      "image/png": "[encoded data removed]",
      "text/plain": [
       "<Figure size 432x288 with 1 Axes>"
      ]
     },
     "metadata": {
      "needs_background": "light"
     },
     "output_type": "display_data"
    }
   ],
   "source": [
    "plt.hist(array,bins=30,edgecolor=\"black\")\n",
    "\n",
    "plt.show()"
   ]
  },
  {
   "cell_type": "code",
   "execution_count": 127,
   "metadata": {},
   "outputs": [
    {
     "name": "stdout",
     "output_type": "stream",
     "text": [
      "[ 3.85618072  6.07310156  3.46293318  5.0067571   6.08847691  4.59645163\n",
      "  5.75503303  5.29637707  5.8913748   7.45396335  5.0595866   5.71986495\n",
      "  5.22706745  5.32922684  4.93668522  4.70296362  6.40565944  6.16183104\n",
      "  2.9137148   5.20363448  2.84277586  3.98607861  4.61341836  7.28825173\n",
      "  5.71531991  7.32979308  5.32924825  4.83173433  4.18236498  5.63518144\n",
      "  5.85354806 10.22086184  3.62336149  6.77561931  3.1534425   5.08991177\n",
      "  7.07162889  5.29747444  6.30370686  3.55731739  6.47160101  6.92956343\n",
      "  8.36003623  2.43696411  7.26027689  6.8878056   6.21171793  7.40114691\n",
      "  6.70932937  7.4807137   7.29502127  5.3146609   6.91102953  7.10290312\n",
      "  4.92119141  6.50896841  8.15036266  4.41120067  4.60143172  6.54098093\n",
      "  5.60602429  8.38837813  3.19558551  4.2464722   4.73340021  5.03761496\n",
      "  0.50034528  5.262239    6.55573179  7.30669111  3.61470189  8.6908163\n",
      "  6.78447681  6.93879084  7.0481834   4.11834347  6.43129257  5.32461066\n",
      "  4.80709585  6.93633963  3.71472903  4.33858119  5.74426158  6.69467645\n",
      "  5.30100305  5.32274927  7.98651047  6.2796954   6.17776317  6.07852706\n",
      "  3.85911614  4.71231929  5.37684413  3.02353673  3.30601688  5.66508642\n",
      "  5.16398934  7.43724156  9.88319182  7.08851649  3.8878986   8.18227388\n",
      "  8.24834577  6.14414012  4.1895246   6.08023863  5.31958743  4.6807554\n",
      "  8.43766741  3.30174861  3.21776972  6.4948378   3.46030338  6.90017208\n",
      "  7.46321479  5.98017085  5.73579587  8.20194405  6.82010925  3.09317138\n",
      "  6.55857409  7.50937846  5.98040904  4.66277889  8.76108901  5.13236552\n",
      "  5.93927324  4.77627645  7.70601555  6.28344521  6.17976231  3.13444543\n",
      "  7.8290831   5.18588209  6.99705477  3.85836536  5.77059688  5.88381289\n",
      "  6.6070158   7.10888613  5.82642278  4.45859779  1.79333378  7.82118623\n",
      "  5.5486437   6.10420209  7.62356766  7.44427338  7.65833661  4.7968083\n",
      "  4.9612385   3.91303156  5.81410531  6.45939953  5.99448262  7.84998404\n",
      "  6.06960127  7.61204723  4.23014208  2.74387587  4.46960207  2.45835388\n",
      "  6.31599176  3.15875324  8.36516556  5.7302766   5.4211845   6.98517967\n",
      "  3.79818676  6.39515956  4.7257357   7.3787452   6.10318981  6.84891954\n",
      "  7.11557706  3.94101637  3.7787047   4.99862912  8.15243503  3.23967218\n",
      "  6.32383329  8.03082765  6.56336166  4.19930552  8.14741558  5.91203914\n",
      "  6.08848479  5.97070821  9.82274899  7.18752717  5.15926445  5.95483513\n",
      "  4.28732277  3.923392    7.21736143  6.61268406  5.23220363  4.91267499\n",
      "  5.27057361  4.8933419   9.40813422  2.77197046  4.71690103  5.28096704\n",
      "  3.15222472  4.972326    7.07203471  4.72931842  6.54988261  4.82418722\n",
      "  6.05017231  3.96557564  3.81498737  5.20745291  5.56593344  4.02190234\n",
      "  5.16087057  8.29780247  4.19470208  4.78248648  8.07435097  5.21383881\n",
      "  5.58451472  4.86722163  5.07308012  5.25636602  5.37805225  4.46711547\n",
      "  5.18086027  6.71001201  5.73279951  8.61771485  3.89844503  5.82719057\n",
      "  6.92180452  4.60661302  3.13776953  7.27730518  4.08317285  6.86982811\n",
      "  6.27464817  5.77574456  6.38189051  7.40581053  7.58304032  4.37528228\n",
      "  7.89119133  6.93530875  5.89142621  5.03935811  8.28339416  5.39415159\n",
      "  2.34672068  6.72134799  6.26489291  1.63769122  2.82126805  4.21281582\n",
      "  6.67698634  7.49123002  7.56767173  6.84824459  4.26725743  6.86022866\n",
      "  6.41769896  7.97641622  4.38818176  7.33001102  7.24819305  7.1013607\n",
      "  6.29608277  5.04626123  7.52489534  6.35522187  6.34919483  5.54452723\n",
      "  5.95612349  4.42493888  4.35734185  4.44651927  3.66847434  5.95693518\n",
      "  3.66404572  4.70922603  5.66437222  6.37920654  5.41114519  4.25051749\n",
      "  3.60366892  4.06986672  4.41535428  5.92619905  5.10529329  5.77581362\n",
      "  2.49310904  6.06139415  5.5440919   3.20761641  4.9925304   4.04062571\n",
      "  6.06889961  7.09492753  6.73270995  5.75168983  4.74292112  1.63178109\n",
      "  4.13033124  7.61864062  2.95020622  7.53622993  2.94673803  7.66681989\n",
      "  5.07736946  3.97219825  5.71440861  2.82357863  5.74056771  4.9356152\n",
      "  4.83884816  4.61457002  2.82177369  5.24136115  6.92273609  3.84572175\n",
      "  2.97361087  6.40639621  9.72470093  3.93013888  4.40351725  6.24679495\n",
      "  4.48095176  3.9603869   5.94227176  5.8201005   5.7673419   6.1058202\n",
      "  6.50492014  8.30298649  5.67655517  4.00552776  4.7159695   7.19211276\n",
      "  5.07042664  6.89877838  4.0568209   4.79528741  6.23352992  3.90262431\n",
      "  5.69961132  2.72754628  5.92727856  1.56537686  5.60409738  5.17897289\n",
      "  2.18161782  2.49232501  6.08092693  6.26882727  6.25664106  4.44758791\n",
      "  4.52818301  6.82944079  6.21244374  4.45902958  7.39368465  4.32152749\n",
      "  6.54413256  4.48501532  3.61543719  6.56215353  5.31274239  7.12557065\n",
      "  7.68657328  6.49048557  5.24858417  5.62478892  6.58002923  6.5702478\n",
      "  6.3674823   6.34497424  6.88059301  4.07406357  3.14397353  7.11397764\n",
      "  3.46324135  6.47145802  5.19547991  6.00452041  4.21032536  3.36681458\n",
      " 10.11193439  7.05956677  4.59711731  6.60656424  6.88074284  6.09926352\n",
      "  4.23687531  6.633493    6.25316769  4.2178761   6.74945332  3.29407314\n",
      "  6.38193845  5.3536182   6.70373073  4.31360433  5.9056675   4.43287761\n",
      "  6.49510025  4.98343053  5.27520565  5.83407011  6.08989348  5.2250033\n",
      "  5.06955799  4.54370806  4.08309735  6.72452092  4.54743275  6.54772574\n",
      "  5.06104246  7.64664666  5.18235085  4.41284051  6.71288005  5.7288538\n",
      "  7.948805    6.91464947  3.90492544  7.52525658  3.88634558  3.92265269\n",
      "  6.96182048  4.88942812  7.25999159  6.09630599  2.79874688  5.77386653\n",
      "  4.19570572  5.43623294  5.81743741  3.95088411  6.15847866  5.97930273\n",
      "  4.88787844  6.1722059   5.65506309  5.83334539  8.10845295  2.47033044\n",
      "  7.75850784  5.53687444  3.94373703  5.4045171   5.17721087  3.94050869\n",
      "  4.36133586  5.14994695  5.34343161  8.34739371  5.34158631  4.40061143\n",
      "  5.95844758  2.75706283  7.16189129  4.69856087  4.87284706  4.45914698\n",
      "  6.63655544  3.3907844   7.77145804  3.58739657  8.47105113  6.26230926\n",
      "  6.33098088  1.41485106  4.67537386  5.09139796  3.66802524  7.21836861\n",
      "  6.83938777  7.19347109  4.08680718  3.66545759  6.76695253  5.06156702\n",
      "  0.87406628  2.48905185  3.62833083  7.64952514  2.94497025  6.56249138\n",
      "  7.82523883  2.93134029  4.61291475  5.23145775  3.70660347  6.94915812\n",
      "  5.54398895  5.06029172  1.24181802  3.48730396  6.7535409   3.79052441\n",
      "  5.53741235  5.68224451  6.1530665   5.39639991  5.01160082  4.51338767\n",
      "  4.09250911  4.67770152  4.18254813  6.7594043   5.59186185  5.53947109\n",
      "  5.36784295  2.85243288  3.53117662  3.89266221  5.2452619   6.82683603\n",
      "  5.76178279  5.0071522   9.61769454  2.82762087  3.11295011  4.81517965\n",
      "  6.86302173  4.40654273  7.12029402  7.62435387  3.51738741  5.67068427\n",
      "  5.1254518   4.2311171   3.45968713  5.59642242  4.71367763  3.99913237\n",
      "  6.86693718  5.10222901  6.44499721  6.41698494  5.5252617   3.99738319\n",
      "  8.60868606  4.87809637  5.76288521  8.63937469  5.98158463  6.09356316\n",
      "  7.35411906  5.55870882  7.29840906  6.5769894   4.27230345  5.9398507\n",
      "  6.63285218  4.0290969   3.13725313  6.30514888  7.0658591   7.93033008\n",
      "  4.38954631  4.25158373  5.36243622  4.41192316  7.70843437  5.94612797\n",
      "  7.52641413  5.57271967  6.90546078  5.25518706  6.42159067  5.95537216\n",
      "  6.19541194  4.01732831  5.71637919  4.10267191  5.8950777   7.61470646\n",
      "  4.88360477  3.86461461  5.90622166  6.62147416  6.03843147  5.81871453\n",
      "  6.86148777  4.76716044  4.91462247  6.84637852  6.84973358  5.22460492\n",
      "  5.88433043  4.85452588  6.61990067  5.11258704  5.54222947  6.3665593\n",
      "  5.80164634  7.75336001  4.65655729  9.08642557  2.50767604  6.22824329\n",
      "  3.18310672  7.21492663  5.45779712  3.50536445  6.42497024  2.66424207\n",
      "  5.01285126  4.5919287   7.77713726  7.0476895   5.80927196  2.7721074\n",
      "  6.41319791  3.13316494  6.32199413  6.82191517  5.36054397  6.03767122\n",
      "  7.50006947  5.30985078  4.89613937  4.2695191   6.44876242  7.22867872\n",
      "  5.29628959  6.05209087  4.92822167  3.67699069  4.75742829  6.23511168\n",
      "  5.1396249   7.5085889   4.13216809  5.45431943  8.13774146  4.67820545\n",
      "  4.58011024  5.50037834  2.50519586  6.41918846  3.29732631  1.82996509\n",
      "  6.78559498  5.44095241  5.4982381   7.82726787  4.23439872  5.44408712\n",
      "  3.66555083  4.17888637  4.17009935  6.18040932  4.83430659  3.79596571\n",
      "  4.51305587  6.52618481  5.6966022   5.023831    7.8410044   5.6822393\n",
      "  7.13615139  5.68344676  4.32542085  4.12444818  4.75882719  5.1887094\n",
      "  4.44622427  7.26859039  5.18342184  5.91905408  7.60189641  8.68516819\n",
      "  0.71966773  5.75565462  5.16236525  5.00032125  6.47471538  6.48471073\n",
      "  3.3425382   4.04551928  3.32048425  8.02892568  7.86347184  5.72853095\n",
      "  4.35581127  4.23601173  4.62227108  6.33475984  6.07556268  3.10302165\n",
      "  6.01599475  4.97159861  4.37617788  6.94442036  3.28269327  6.71792807\n",
      "  7.09778933  5.93966458  6.65593895  6.35197352  2.72846381  5.8137942\n",
      "  5.18665524  5.92962748  8.32004746  2.35720824  3.55658801  3.21333793\n",
      "  4.44088371  6.96246069  4.18004083  5.58800129  5.58231219  5.1004206\n",
      "  5.84790725  5.05679068  8.10161705  8.5639269   7.6034811   4.03795205\n",
      "  3.54936336  5.71115359  4.03574306  2.99508846  3.78497823  7.35167456\n",
      "  5.70191937  7.53206192  3.85883128  6.18465097  3.71904022  2.72483534\n",
      "  3.93304692  5.93523715  6.55632944  5.75928536  3.51577235  6.37577081\n",
      "  6.07316991  6.73348447  4.71872301  3.60498307  6.54817783  4.61570157\n",
      "  6.57530178  2.26853333  7.06531118  6.73001793  6.1324317   5.25429639\n",
      "  4.44068627  5.15863161  7.31408686  6.44177087  4.80491292  4.95418499\n",
      "  7.37065848  6.97017765  3.16203181  5.20433967  4.47684709  3.46316867\n",
      "  7.49768428  7.66281031  5.59412321  5.54392975  7.94974673  6.09886459\n",
      "  4.11187512  4.45509914  7.05940074  3.46419174  5.19404533  2.5951603\n",
      "  2.4740748   5.79315397  6.89196624  7.75971121  6.11986948  6.03393727\n",
      "  5.62479699  3.49385106  5.78010745  6.34385902  3.01706672  6.06781929\n",
      "  4.31886158  4.53186384  6.22833474  6.86000736  3.9662644   4.00753548\n",
      "  6.77025873  7.26921266  5.32121137  5.68699242  5.44238431  5.68450217\n",
      "  3.80934626  8.30027701  4.43410022  7.9488749   5.1455794   5.2400204\n",
      "  5.12027045  5.39653285  5.83957737  6.1030066   8.14486978  6.10561988\n",
      "  7.92372461  6.84247824  4.95005272  6.98484391  6.22907032  3.60660039\n",
      "  6.88549871  4.23164281  6.16478815  5.18131313  7.1935734   7.23594587\n",
      "  3.97448378  4.94988779  8.03784674  4.77415389  6.59357381  4.13097046\n",
      "  4.87368696  4.09948736  5.00753006  3.05110389  8.46568832  3.33926687\n",
      "  5.83663494  5.25240484  6.45973852  9.84616229  4.35795327  5.87945657\n",
      "  8.30629361  5.64616737  5.10572906  4.91864717  3.549176    3.5625129\n",
      " 10.45906068  6.45606584  6.6507677   7.60427534  7.40579718  4.23557009\n",
      "  5.73609323  3.05752302  6.52501458  6.83746701  5.95202975  7.11414548\n",
      "  4.85299051  4.28743943  6.22534813  2.68436092  5.51120815  7.80920938\n",
      "  7.01677451  3.22018859  4.45134892  5.39154709  3.89593173  6.55777858\n",
      "  4.42390665  6.72942682  4.88423866  5.36785092  4.30317443  5.34256662\n",
      "  4.93826238  5.07970916  4.95668883  5.42389672  4.41811963  3.54094861\n",
      "  5.42360834  6.85277014  6.82219244  5.12929046  2.12672914  5.69231482\n",
      "  5.17972063  5.43177562  8.14229092  4.47300208  7.09264145  6.23394077\n",
      "  9.24003007  5.19946285  6.26186065  5.46321094  4.47767808  4.60888906\n",
      "  7.43445116  3.84727472  5.92217395  4.3530653   6.0517317   6.88679812\n",
      "  3.76397811  4.07306926  4.70078563  6.33892765  4.70535594  6.89780495\n",
      "  4.66327902  2.82397284  5.56408897  4.03974772  4.64047758  2.55116561\n",
      "  4.81572446  3.89433221  6.48866048  6.60732374  9.20061626  6.52804303\n",
      "  4.98425469  4.27009287  5.18623256  5.52706515  6.60143437  6.12901579\n",
      "  7.87165606  7.76627809  3.78530924  5.03230893  6.51089023  5.45202856\n",
      "  8.17587039  4.85192793  5.08409474  5.58520388  5.52010798  5.88451299\n",
      "  5.41800175  5.60354925  5.71132495  5.33958221  6.29117911  4.0544737\n",
      "  5.44002154  5.23799798  6.06478484  5.58110505  5.53827388  5.78884395\n",
      "  6.49794309  5.95823216  6.94073631  3.28645783  7.2056326   5.49470905\n",
      "  4.75324908  3.16727825  2.60009614  3.37484643  5.05400764  6.84579764\n",
      "  6.00206091  4.7198393   4.5301931   3.68775407  4.11874373  5.40306191\n",
      "  6.25957844  5.67465449  4.02587156  3.96715206  5.07898886  4.57078623\n",
      "  5.64588644  3.93888129  4.13387309  4.23525185  6.06589885  6.28469666\n",
      "  7.39524126  5.62532163  4.52285262  5.06208075  5.14892359  5.80953853\n",
      "  5.25419929  4.64081394  5.99845486  8.00529199]\n"
     ]
    },
    {
     "data": {
      "image/png": "[encoded data removed]",
      "text/plain": [
       "<Figure size 432x288 with 1 Axes>"
      ]
     },
     "metadata": {
      "needs_background": "light"
     },
     "output_type": "display_data"
    }
   ],
   "source": [
    "# normal distribution\n",
    "mean=5.5\n",
    "sd=1.5\n",
    "size=1000\n",
    "a = np.random.normal(mean,sd,size)\n",
    "print(a)\n",
    "plt.hist(a,bins=30,edgecolor=\"Black\")\n",
    "\n",
    "plt.show()"
   ]
  },
  {
   "cell_type": "code",
   "execution_count": 129,
   "metadata": {},
   "outputs": [
    {
     "data": {
      "image/png": "[encoded data removed]",
      "text/plain": [
       "<Figure size 432x288 with 1 Axes>"
      ]
     },
     "metadata": {
      "needs_background": "light"
     },
     "output_type": "display_data"
    }
   ],
   "source": [
    "a=np.random.binomial(100,.5,100)\n",
    "plt.hist(a,bins=30,edgecolor=\"black\")\n",
    "plt.show()"
   ]
  },
  {
   "cell_type": "code",
   "execution_count": 133,
   "metadata": {},
   "outputs": [
    {
     "data": {
      "text/plain": [
       "array([[[  1,   2,   3,   4,   5],\n",
       "        [  6,   7,   8,   9,  10],\n",
       "        [ 11,  12,  13,  14,  15],\n",
       "        [ 16,  17,  18,  19,  20]],\n",
       "\n",
       "       [[ 21,  22,  23,  24,  25],\n",
       "        [ 26,  27,  28,  29,  30],\n",
       "        [ 31,  32,  33,  34,  35],\n",
       "        [ 36,  37,  38,  39,  40]],\n",
       "\n",
       "       [[ 41,  42,  43,  44,  45],\n",
       "        [ 46,  47,  48,  49,  50],\n",
       "        [ 51,  52,  53,  54,  55],\n",
       "        [ 56,  57,  58,  59,  60]],\n",
       "\n",
       "       [[ 61,  62,  63,  64,  65],\n",
       "        [ 66,  67,  68,  69,  70],\n",
       "        [ 71,  72,  73,  74,  75],\n",
       "        [ 76,  77,  78,  79,  80]],\n",
       "\n",
       "       [[ 81,  82,  83,  84,  85],\n",
       "        [ 86,  87,  88,  89,  90],\n",
       "        [ 91,  92,  93,  94,  95],\n",
       "        [ 96,  97,  98,  99, 100]]])"
      ]
     },
     "execution_count": 133,
     "metadata": {},
     "output_type": "execute_result"
    }
   ],
   "source": [
    "## 3D\n",
    "a=np.arange(1,101)\n",
    "d=a.reshape(5,4,5)\n",
    "d"
   ]
  },
  {
   "cell_type": "code",
   "execution_count": 137,
   "metadata": {},
   "outputs": [
    {
     "data": {
      "text/plain": [
       "array([  0,  15,  30,  45,  60,  75,  90, 105, 120, 135, 150, 165, 180,\n",
       "       195, 210, 225, 240, 255, 270, 285, 300, 315, 330, 345, 360])"
      ]
     },
     "execution_count": 137,
     "metadata": {},
     "output_type": "execute_result"
    }
   ],
   "source": [
    "angles=np.arange(0,361,15)\n",
    "angles"
   ]
  },
  {
   "cell_type": "code",
   "execution_count": 140,
   "metadata": {},
   "outputs": [
    {
     "data": {
      "text/plain": [
       "array([0.        , 0.26179939, 0.52359878, 0.78539816, 1.04719755,\n",
       "       1.30899694, 1.57079633, 1.83259571, 2.0943951 , 2.35619449,\n",
       "       2.61799388, 2.87979327, 3.14159265, 3.40339204, 3.66519143,\n",
       "       3.92699082, 4.1887902 , 4.45058959, 4.71238898, 4.97418837,\n",
       "       5.23598776, 5.49778714, 5.75958653, 6.02138592, 6.28318531])"
      ]
     },
     "execution_count": 140,
     "metadata": {},
     "output_type": "execute_result"
    }
   ],
   "source": [
    "radian=np.deg2rad(angles)\n",
    "radian"
   ]
  },
  {
   "cell_type": "code",
   "execution_count": 146,
   "metadata": {},
   "outputs": [
    {
     "data": {
      "image/png": "[encoded data removed]",
      "text/plain": [
       "<Figure size 432x288 with 1 Axes>"
      ]
     },
     "metadata": {
      "needs_background": "light"
     },
     "output_type": "display_data"
    }
   ],
   "source": [
    "plt.scatter(angles,np.cos(radian))\n",
    "plt.show()"
   ]
  },
  {
   "cell_type": "code",
   "execution_count": 167,
   "metadata": {},
   "outputs": [
    {
     "data": {
      "image/png": "[encoded data removed]",
      "text/plain": [
       "<Figure size 432x288 with 1 Axes>"
      ]
     },
     "metadata": {
      "needs_background": "light"
     },
     "output_type": "display_data"
    }
   ],
   "source": [
    "plt.scatter(angles,np.sin(radian))\n",
    "plt.show() \n"
   ]
  },
  {
   "cell_type": "code",
   "execution_count": null,
   "metadata": {},
   "outputs": [],
   "source": []
  },
  {
   "cell_type": "code",
   "execution_count": 176,
   "metadata": {},
   "outputs": [
    {
     "data": {
      "image/png": "[encoded data removed]",
      "text/plain": [
       "<Figure size 720x360 with 1 Axes>"
      ]
     },
     "metadata": {},
     "output_type": "display_data"
    }
   ],
   "source": [
    "plt.figure(figsize=(10,5),facecolor=\"gray\")\n",
    "a=np.array([1,2,3,4,5,6])\n",
    "b=np.array([7,8,9,1,2,3])\n",
    "plt.plot(a,b,\"ro--\",label=\"A vs B\",lw=2,alpha=.8,color=\"black\")\n",
    "plt.grid()\n",
    "plt.legend()\n",
    "plt.xlabel(\"A\",fontsize=20)\n",
    "plt.ylabel(\"B\",fontsize=20)\n",
    "plt.show()"
   ]
  },
  {
   "cell_type": "code",
   "execution_count": null,
   "metadata": {},
   "outputs": [],
   "source": []
  }
 ],
 "metadata": {
  "kernelspec": {
   "display_name": "Python 3",
   "language": "python",
   "name": "python3"
  },
  "language_info": {
   "codemirror_mode": {
    "name": "ipython",
    "version": 3
   },
   "file_extension": ".py",
   "mimetype": "text/x-python",
   "name": "python",
   "nbconvert_exporter": "python",
   "pygments_lexer": "ipython3",
   "version": "3.7.0"
  }
 },
 "nbformat": 4,
 "nbformat_minor": 2
}
