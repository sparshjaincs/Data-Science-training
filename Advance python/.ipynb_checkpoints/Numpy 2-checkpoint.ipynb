{
 "cells": [
  {
   "cell_type": "code",
   "execution_count": 1,
   "metadata": {},
   "outputs": [],
   "source": [
    "import numpy as np"
   ]
  },
  {
   "cell_type": "code",
   "execution_count": 2,
   "metadata": {},
   "outputs": [],
   "source": [
    "data=np.random.randint(30,100,40)"
   ]
  },
  {
   "cell_type": "code",
   "execution_count": 3,
   "metadata": {},
   "outputs": [
    {
     "data": {
      "text/plain": [
       "array([88, 33, 98, 81, 75, 36, 78, 87, 95, 59, 31, 51, 53, 63, 90, 89, 58,\n",
       "       31, 43, 56, 35, 91, 51, 46, 83, 69, 93, 99, 91, 88, 56, 62, 42, 94,\n",
       "       75, 70, 96, 47, 34, 50])"
      ]
     },
     "execution_count": 3,
     "metadata": {},
     "output_type": "execute_result"
    }
   ],
   "source": [
    "data"
   ]
  },
  {
   "cell_type": "code",
   "execution_count": 5,
   "metadata": {},
   "outputs": [],
   "source": [
    "data1=np.random.randint(20,100,10)"
   ]
  },
  {
   "cell_type": "code",
   "execution_count": 6,
   "metadata": {},
   "outputs": [
    {
     "data": {
      "text/plain": [
       "array([74, 21, 25, 40, 87, 48, 96, 55, 90, 24])"
      ]
     },
     "execution_count": 6,
     "metadata": {},
     "output_type": "execute_result"
    }
   ],
   "source": [
    "data1"
   ]
  },
  {
   "cell_type": "code",
   "execution_count": 7,
   "metadata": {},
   "outputs": [],
   "source": [
    "data=np.append(data,data1)"
   ]
  },
  {
   "cell_type": "code",
   "execution_count": 8,
   "metadata": {},
   "outputs": [
    {
     "data": {
      "text/plain": [
       "array([88, 33, 98, 81, 75, 36, 78, 87, 95, 59, 31, 51, 53, 63, 90, 89, 58,\n",
       "       31, 43, 56, 35, 91, 51, 46, 83, 69, 93, 99, 91, 88, 56, 62, 42, 94,\n",
       "       75, 70, 96, 47, 34, 50, 74, 21, 25, 40, 87, 48, 96, 55, 90, 24])"
      ]
     },
     "execution_count": 8,
     "metadata": {},
     "output_type": "execute_result"
    }
   ],
   "source": [
    "data"
   ]
  },
  {
   "cell_type": "code",
   "execution_count": 9,
   "metadata": {},
   "outputs": [],
   "source": [
    "import matplotlib.pyplot as plt\n",
    "%matplotlib inline"
   ]
  },
  {
   "cell_type": "code",
   "execution_count": 12,
   "metadata": {},
   "outputs": [
    {
     "data": {
      "image/png": "[encoded data removed]",
      "text/plain": [
       "<Figure size 432x288 with 1 Axes>"
      ]
     },
     "metadata": {
      "needs_background": "light"
     },
     "output_type": "display_data"
    }
   ],
   "source": [
    "plt.hist(data,bins=30,edgecolor=\"black\")\n",
    "plt.show()"
   ]
  },
  {
   "cell_type": "code",
   "execution_count": 18,
   "metadata": {},
   "outputs": [
    {
     "data": {
      "image/png": "[encoded data removed]",
      "text/plain": [
       "<Figure size 432x288 with 1 Axes>"
      ]
     },
     "metadata": {},
     "output_type": "display_data"
    }
   ],
   "source": [
    "plt.style.use('seaborn-whitegrid')\n",
    "plt.plot(data,\"ro\",label=\"data\")\n",
    "plt.plot([0,50],[data.mean(),data.mean()],\"b\",label=\"mean\")\n",
    "for i in range(len(data)):\n",
    "    plt.plot([i,i],[data.mean(),data[i]])\n",
    "plt.legend()\n",
    "plt.show()"
   ]
  },
  {
   "cell_type": "code",
   "execution_count": 20,
   "metadata": {},
   "outputs": [],
   "source": [
    "x=np.mean(data)\n",
    "y=np.median(data)"
   ]
  },
  {
   "cell_type": "code",
   "execution_count": 21,
   "metadata": {},
   "outputs": [
    {
     "name": "stdout",
     "output_type": "stream",
     "text": [
      "64.54\n",
      "62.5\n"
     ]
    }
   ],
   "source": [
    "print(x)\n",
    "print(y)"
   ]
  },
  {
   "cell_type": "code",
   "execution_count": 22,
   "metadata": {},
   "outputs": [],
   "source": [
    "height = np.array([4.4,5.5,5.6,5.2,5.9,5.11,5.3,4.9])"
   ]
  },
  {
   "cell_type": "code",
   "execution_count": 23,
   "metadata": {},
   "outputs": [],
   "source": [
    "height.sort()"
   ]
  },
  {
   "cell_type": "code",
   "execution_count": 24,
   "metadata": {},
   "outputs": [
    {
     "data": {
      "text/plain": [
       "array([4.4 , 4.9 , 5.11, 5.2 , 5.3 , 5.5 , 5.6 , 5.9 ])"
      ]
     },
     "execution_count": 24,
     "metadata": {},
     "output_type": "execute_result"
    }
   ],
   "source": [
    "height"
   ]
  },
  {
   "cell_type": "code",
   "execution_count": 26,
   "metadata": {},
   "outputs": [],
   "source": [
    "h=height.mean()"
   ]
  },
  {
   "cell_type": "code",
   "execution_count": 34,
   "metadata": {},
   "outputs": [],
   "source": [
    "dev=abs((height-h).sum())/height.size"
   ]
  },
  {
   "cell_type": "code",
   "execution_count": 35,
   "metadata": {},
   "outputs": [
    {
     "data": {
      "text/plain": [
       "5.551115123125783e-16"
      ]
     },
     "execution_count": 35,
     "metadata": {},
     "output_type": "execute_result"
    }
   ],
   "source": [
    "dev"
   ]
  },
  {
   "cell_type": "code",
   "execution_count": 36,
   "metadata": {},
   "outputs": [],
   "source": [
    "c=np.random.randint(30,40,10)"
   ]
  },
  {
   "cell_type": "code",
   "execution_count": 37,
   "metadata": {},
   "outputs": [],
   "source": [
    "data=c"
   ]
  },
  {
   "cell_type": "code",
   "execution_count": 53,
   "metadata": {},
   "outputs": [
    {
     "data": {
      "text/plain": [
       "34.9"
      ]
     },
     "execution_count": 53,
     "metadata": {},
     "output_type": "execute_result"
    }
   ],
   "source": [
    "x=data.mean()\n",
    "x"
   ]
  },
  {
   "cell_type": "code",
   "execution_count": 56,
   "metadata": {},
   "outputs": [],
   "source": [
    "sd=abs(data-data.mean()).sum()/data.size"
   ]
  },
  {
   "cell_type": "code",
   "execution_count": 57,
   "metadata": {},
   "outputs": [
    {
     "data": {
      "text/plain": [
       "37.62"
      ]
     },
     "execution_count": 57,
     "metadata": {},
     "output_type": "execute_result"
    }
   ],
   "source": [
    "x+sd"
   ]
  },
  {
   "cell_type": "code",
   "execution_count": 62,
   "metadata": {},
   "outputs": [
    {
     "data": {
      "text/plain": [
       "1.6492422502470643"
      ]
     },
     "execution_count": 62,
     "metadata": {},
     "output_type": "execute_result"
    }
   ],
   "source": [
    "std_dev=sd**.5\n",
    "std_dev"
   ]
  },
  {
   "cell_type": "code",
   "execution_count": 65,
   "metadata": {},
   "outputs": [
    {
     "data": {
      "image/png": "[encoded data removed]",
      "text/plain": [
       "<Figure size 432x288 with 1 Axes>"
      ]
     },
     "metadata": {},
     "output_type": "display_data"
    }
   ],
   "source": [
    "plt.plot(data,'ro',label=\"data\")\n",
    "plt.plot([0,10],[x,x],label=\"mean\")\n",
    "for i in range(len(data)):\n",
    "    plt.plot([i,i],[x,data[i]])\n",
    "plt.plot([0,data.size],[x+sd,x+sd],\"g--\",label=\"dev\")\n",
    "plt.plot([0,data.size],[x-sd,x-sd],\"g--\")\n",
    "plt.plot([0,data.size],[x+std_dev,x+std_dev],\"m\",label=\"std_dev\")\n",
    "plt.plot([0,data.size],[x-std_dev,x-std_dev],\"m\")\n",
    "plt.legend()\n",
    "plt.show()"
   ]
  },
  {
   "cell_type": "code",
   "execution_count": 66,
   "metadata": {},
   "outputs": [
    {
     "data": {
      "text/plain": [
       "array([97, 13, 68, 25, 53, 61, 75,  9, 77, 14, 36, 58, 62, 69, 53, 95, 85,\n",
       "       26, 46, 85, 29, 99, 48, 43, 89, 37, 45, 43, 79, 39, 19, 93, 61, 54,\n",
       "       24, 19, 35, 42, 11, 38, 96, 59, 47, 80, 48, 61, 66,  5, 63, 76, 96,\n",
       "       99,  4, 96, 56, 86, 70, 24, 52, 73, 10, 89, 31, 51, 42, 19, 55, 36,\n",
       "       77, 61, 16, 21, 56, 97, 34, 10, 10, 97, 36, 25, 42, 94, 13, 71, 13,\n",
       "       46, 65, 66, 48, 10, 98, 61, 35, 56, 25, 83, 81, 33, 48, 66, 42, 30,\n",
       "       23, 62, 70, 50, 46, 63, 19, 40, 34, 94, 83, 16, 93, 13, 35, 76, 92,\n",
       "       78, 72, 50, 66, 75, 74, 84, 95, 88, 66, 89, 73, 23, 45, 63, 75, 80,\n",
       "       77, 34, 24, 15,  3, 92, 69, 86, 28, 32, 63, 99, 53, 89, 46, 80, 20,\n",
       "       44,  4, 34, 68, 10, 21, 21, 41, 70, 11, 37, 14,  1, 74, 75, 98, 63,\n",
       "       34, 84, 40, 92, 66, 67, 10, 92, 80, 21, 10,  6, 40, 92, 46,  2, 81,\n",
       "        1, 28, 87, 67, 33, 44, 56, 37,  2, 85, 36, 57, 84, 27, 70, 50, 17,\n",
       "       28, 10, 31, 58, 71, 28, 24, 54, 99, 31, 82, 58, 36, 43,  2, 76, 84,\n",
       "       31, 42, 85, 69, 77, 95, 75, 83, 44, 32, 25, 83, 93, 32, 81, 90, 32,\n",
       "        4, 40, 79, 35, 44, 76, 61, 25, 55, 85,  4, 60, 94, 40, 67, 88, 29,\n",
       "       44, 25, 46, 67, 80, 26, 93, 76, 93, 94, 52, 36, 88, 14, 11, 63, 78,\n",
       "       89, 83, 43, 39, 68, 29, 18, 98, 11, 94, 20,  6, 38, 64, 58, 38, 81,\n",
       "       18,  4, 96, 81, 58, 43, 82, 75, 29, 62, 82, 99, 70, 11,  4, 28, 50,\n",
       "       63, 16,  2,  2, 58, 59, 80, 79, 60,  5, 24, 45, 20, 38, 88, 22, 88,\n",
       "       96, 35, 65, 52, 23, 28, 54, 44, 24, 92, 11, 55, 97, 81, 18,  8, 30,\n",
       "       31,  1, 89, 39, 23, 21, 84,  7, 79, 55,  2, 91, 51,  3, 74, 52, 75,\n",
       "       24, 33, 95, 54, 87, 49, 32, 92,  5, 24, 21, 47, 17,  4, 39, 90, 13,\n",
       "       24, 89, 59,  6, 92, 41, 11,  2, 91, 28, 43, 87, 33, 74, 75, 89, 69,\n",
       "       48, 66, 36, 18, 83, 61, 21, 22, 15, 90, 67, 53,  1, 64, 38, 46, 68,\n",
       "        7, 19, 55, 13, 34, 36, 63, 17, 91, 63, 73, 14, 70,  3, 94, 70, 94,\n",
       "       54, 62, 70, 67, 27, 87, 67, 37, 63,  6, 25, 84,  2, 14, 47, 63, 46,\n",
       "       93, 32, 98, 77, 29, 61, 98, 66, 98, 79, 50, 57,  1, 47, 10, 84, 94,\n",
       "       27, 64, 84, 62, 51, 93, 27, 27, 44, 86, 20, 86, 92, 55, 84, 84, 94,\n",
       "       28, 89, 45, 77, 42, 13, 57, 11, 59, 12, 69, 26, 41, 52, 32, 69, 47,\n",
       "       17, 37, 36, 93, 17, 77, 58, 49,  5, 31, 51,  4, 85, 68,  3, 17, 90,\n",
       "       46, 16, 77, 41, 85, 22, 46, 16, 81, 72, 74, 52, 79, 19, 32, 87,  7,\n",
       "       17, 37, 46, 28, 74, 10,  4, 16, 47, 83, 16, 43, 33, 73, 29, 18, 23,\n",
       "       86, 62, 66, 23, 12, 35, 89, 71,  8, 66, 91, 15, 83, 85, 90, 65, 17,\n",
       "       89, 35, 52, 45, 91, 44, 85, 87, 16, 41, 26, 91, 14,  5, 79, 93, 20,\n",
       "       84,  2, 87, 35, 58, 46, 53, 70, 95, 97, 82, 23,  1, 84, 52, 33, 86,\n",
       "       20, 39, 74, 54, 20, 56, 45, 68, 94, 96, 30, 97, 71,  9, 99, 51, 21,\n",
       "       79, 17, 64, 60, 25, 38, 99, 31, 17, 42, 99, 13, 41, 17,  8, 85, 45,\n",
       "       84, 37, 60, 24, 45, 76, 23, 46, 93, 36, 85, 15, 41, 24, 85, 54, 54,\n",
       "       49, 21, 38, 40, 19,  4, 73, 91,  8, 43, 97,  8, 49, 44,  7, 57, 14,\n",
       "       61, 61, 76, 81, 18, 32, 43, 27, 57, 93, 45, 18, 16, 95, 97, 56, 79,\n",
       "       92, 32, 37, 81, 79, 77,  8, 60, 24, 99,  9, 27, 32, 80, 59,  5, 56,\n",
       "       53, 33, 27, 87, 37,  7,  5, 39, 36, 35, 57, 10, 40, 48,  7, 18, 86,\n",
       "       38, 36, 69, 18, 12, 42, 47, 42,  4, 89, 97,  3, 64, 75, 77, 31, 11,\n",
       "       72, 90, 78, 69, 76, 65, 53, 30, 14, 75, 26, 52, 45, 42, 47, 92, 98,\n",
       "        7, 11, 37, 15, 25, 18, 69, 28, 81, 19, 95, 76, 58, 50, 57, 30, 63,\n",
       "        1, 50, 15, 79, 12, 90, 42, 78, 81, 75, 50, 12, 75,  3, 22, 29, 45,\n",
       "       67,  4, 30, 37, 81, 85,  6, 30, 64, 29, 79, 31, 14, 26, 76, 25, 18,\n",
       "       95,  5,  6, 73, 10, 27, 24, 66,  8, 79,  1, 63, 44, 38, 90, 88, 11,\n",
       "       62, 59, 49, 45, 55, 25,  9, 74, 43, 54, 20, 94, 56, 17,  8, 48, 76,\n",
       "       90, 86, 28, 78, 18, 58, 44, 23, 94, 82, 89,  4, 46, 71, 94, 57, 25,\n",
       "       34, 47, 96, 78, 15, 35, 87,  1, 74, 88, 28, 53, 91, 75, 32, 20, 35,\n",
       "       43, 62, 33, 94, 92, 63, 70, 37, 25, 35, 47, 52, 21, 94, 24, 49, 79,\n",
       "       72, 78, 22, 95, 99, 10, 37,  6, 73,  7, 11, 68, 48, 84, 92, 50, 18,\n",
       "       49, 90,  3, 57, 77, 93,  1, 65, 24, 19, 59, 56, 89, 77, 86, 45, 53,\n",
       "       70, 22, 91, 54, 71, 40, 94,  4, 61, 80, 61, 87,  8, 80, 14, 67, 52,\n",
       "       54, 55,  6, 92, 67,  5,  5, 44, 19, 64, 67, 67, 34, 38, 73, 30, 41,\n",
       "       26, 76, 90, 32, 30, 79, 50, 96, 96, 38, 78, 40, 43, 10, 69, 31, 61,\n",
       "       24, 85, 92, 70, 65,  4, 60, 91, 46, 12, 82, 84,  2, 98, 48, 26, 64,\n",
       "       19, 29, 37, 91, 87, 91, 56, 61, 37, 45, 65, 75, 25, 50])"
      ]
     },
     "execution_count": 66,
     "metadata": {},
     "output_type": "execute_result"
    }
   ],
   "source": [
    "x = np.random.randint(1,100,1000)\n",
    "x"
   ]
  },
  {
   "cell_type": "code",
   "execution_count": 67,
   "metadata": {},
   "outputs": [
    {
     "data": {
      "text/plain": [
       "array([72, 85, 78, 50, 51, 51, 37, 53, 61, 88, 50, 54, 76, 76, 39, 41, 37,\n",
       "       54, 59, 36, 45, 33, 58, 64, 89, 97, 44, 48, 54, 45, 33, 31, 49, 33,\n",
       "       74, 81, 89, 32, 31, 79])"
      ]
     },
     "execution_count": 67,
     "metadata": {},
     "output_type": "execute_result"
    }
   ],
   "source": [
    "a = np.random.randint(30,100,40)\n",
    "a"
   ]
  },
  {
   "cell_type": "code",
   "execution_count": 68,
   "metadata": {},
   "outputs": [
    {
     "data": {
      "text/plain": [
       "array([48, 92, 80, 69, 63, 67, 45, 97, 31, 85])"
      ]
     },
     "execution_count": 68,
     "metadata": {},
     "output_type": "execute_result"
    }
   ],
   "source": [
    "b = np.random.randint(20,100,10)\n",
    "b"
   ]
  },
  {
   "cell_type": "code",
   "execution_count": 76,
   "metadata": {},
   "outputs": [],
   "source": [
    "data=a\n",
    "m=np.mean(data)\n",
    "median=np.median(data)\n"
   ]
  },
  {
   "cell_type": "code",
   "execution_count": 71,
   "metadata": {},
   "outputs": [],
   "source": [
    "var=data.var()\n",
    "std=data.std()"
   ]
  },
  {
   "cell_type": "code",
   "execution_count": 72,
   "metadata": {},
   "outputs": [
    {
     "data": {
      "text/plain": [
       "363.19437500000004"
      ]
     },
     "execution_count": 72,
     "metadata": {},
     "output_type": "execute_result"
    }
   ],
   "source": [
    "var"
   ]
  },
  {
   "cell_type": "code",
   "execution_count": 73,
   "metadata": {},
   "outputs": [
    {
     "data": {
      "text/plain": [
       "19.05765922142591"
      ]
     },
     "execution_count": 73,
     "metadata": {},
     "output_type": "execute_result"
    }
   ],
   "source": [
    "std"
   ]
  },
  {
   "cell_type": "code",
   "execution_count": 74,
   "metadata": {},
   "outputs": [
    {
     "name": "stdout",
     "output_type": "stream",
     "text": [
      "Deviation =  16.16\n"
     ]
    }
   ],
   "source": [
    "dev = abs(data - data.mean()).sum() / data.size\n",
    "print(\"Deviation = \",dev)"
   ]
  },
  {
   "cell_type": "code",
   "execution_count": 77,
   "metadata": {},
   "outputs": [
    {
     "data": {
      "image/png": "[encoded data removed]",
      "text/plain": [
       "<Figure size 432x288 with 1 Axes>"
      ]
     },
     "metadata": {
      "needs_background": "light"
     },
     "output_type": "display_data"
    }
   ],
   "source": [
    "import matplotlib.pyplot as plt\n",
    "%matplotlib inline\n",
    "plt.plot(data,'ro',label='data')\n",
    "plt.plot([0,data.size],[m,m],'g',label='mean')\n",
    "\n",
    "plt.plot([0,data.size],[m+dev,m+dev],c=\"b\",lw=2) # above\n",
    "plt.plot([0,data.size],[m-dev,m-dev],c=\"b\",lw=2,label='dev')\n",
    "\n",
    "# plt.plot([0,data.size],[m+v,m+v],'g')\n",
    "# plt.plot([0,data.size],[m-v,m-v],'g',label='var')\n",
    "\n",
    "plt.plot([0,data.size],[m+std,m+std],'y')\n",
    "plt.plot([0,data.size],[m-std,m-std],'y',label='std')\n",
    "for i in range(data.size):\n",
    "    plt.plot([i,i],[data.mean(),data[i]],\"c--\")\n",
    "plt.xlabel(\"X-axis\")\n",
    "plt.ylabel(\"Y-axis\")\n",
    "plt.legend(loc=1)\n",
    "plt.show()"
   ]
  },
  {
   "cell_type": "code",
   "execution_count": 79,
   "metadata": {},
   "outputs": [
    {
     "data": {
      "text/plain": [
       "array([101, 114, 118, 109, 101, 108, 107, 100, 108, 102])"
      ]
     },
     "execution_count": 79,
     "metadata": {},
     "output_type": "execute_result"
    }
   ],
   "source": [
    "a = np.random.randint(30,50,50)\n",
    "b = np.random.randint(100,120,10)\n",
    "b"
   ]
  },
  {
   "cell_type": "code",
   "execution_count": 80,
   "metadata": {},
   "outputs": [
    {
     "data": {
      "text/plain": [
       "array([42, 49, 44, 34, 44, 33, 43, 37, 46, 43, 47, 31, 42, 46, 46, 41, 41,\n",
       "       43, 43, 30, 44, 35, 47, 36, 44, 30, 37, 47, 47, 48, 35, 33, 45, 41,\n",
       "       40, 42, 43, 45, 33, 37, 37, 34, 45, 41, 36, 37, 31, 46, 38, 46])"
      ]
     },
     "execution_count": 80,
     "metadata": {},
     "output_type": "execute_result"
    }
   ],
   "source": [
    "a"
   ]
  },
  {
   "cell_type": "code",
   "execution_count": 81,
   "metadata": {},
   "outputs": [
    {
     "data": {
      "text/plain": [
       "array([ 42,  49,  44,  34,  44,  33,  43,  37,  46,  43,  47,  31,  42,\n",
       "        46,  46,  41,  41,  43,  43,  30,  44,  35,  47,  36,  44,  30,\n",
       "        37,  47,  47,  48,  35,  33,  45,  41,  40,  42,  43,  45,  33,\n",
       "        37,  37,  34,  45,  41,  36,  37,  31,  46,  38,  46, 101, 114,\n",
       "       118, 109, 101, 108, 107, 100, 108, 102])"
      ]
     },
     "execution_count": 81,
     "metadata": {},
     "output_type": "execute_result"
    }
   ],
   "source": [
    "data=np.append(a,b)\n",
    "data"
   ]
  },
  {
   "cell_type": "code",
   "execution_count": 82,
   "metadata": {},
   "outputs": [
    {
     "data": {
      "image/png": "[encoded data removed]",
      "text/plain": [
       "<Figure size 432x288 with 1 Axes>"
      ]
     },
     "metadata": {
      "needs_background": "light"
     },
     "output_type": "display_data"
    }
   ],
   "source": [
    "plt.hist(data,30,edgecolor='blue')\n",
    "plt.show()"
   ]
  },
  {
   "cell_type": "code",
   "execution_count": 83,
   "metadata": {},
   "outputs": [
    {
     "name": "stdout",
     "output_type": "stream",
     "text": [
      "Mean =  51.55\n",
      "Deviation =  18.416666666666668\n",
      "variance =  639.5474999999999\n",
      "Standard Deviation =  25.289276383479223\n"
     ]
    }
   ],
   "source": [
    "m = data.mean()\n",
    "print(\"Mean = \",m)\n",
    "dev = abs(data - data.mean()).sum() / data.size\n",
    "print(\"Deviation = \",dev)\n",
    "var = data.var()\n",
    "print(\"variance = \",var)\n",
    "std = data.std()\n",
    "print(\"Standard Deviation = \",std)"
   ]
  },
  {
   "cell_type": "code",
   "execution_count": 84,
   "metadata": {},
   "outputs": [
    {
     "data": {
      "image/png": "[encoded data removed]",
      "text/plain": [
       "<Figure size 432x288 with 1 Axes>"
      ]
     },
     "metadata": {
      "needs_background": "light"
     },
     "output_type": "display_data"
    }
   ],
   "source": [
    "\n",
    "plt.plot(data,'ro',label='data')\n",
    "plt.plot([0,data.size],[data.mean(),data.mean()],'g',lw=3,\n",
    "         label='mean')\n",
    "plt.plot([0,data.size],[m+dev,m+dev],c=\"b\",lw=2) # above\n",
    "plt.plot([0,data.size],[m-dev,m-dev],c=\"b\",lw=2,label='dev') # below\n",
    "#plt.plot([0,data.size],[m+var,m+var],c=\"k\",lw=2) # above\n",
    "#plt.plot([0,data.size],[m-var,m-var],c=\"k\",lw=2,label='var') # below\n",
    "\n",
    "plt.plot([0,data.size],[m+std,m+std],c=\"y\",lw=3) # above\n",
    "plt.plot([0,data.size],[m-std,m-std],c=\"y\",lw=3,label='std') # below\n",
    "\n",
    "#plt.plot([0,data.size],[np.median(data),np.median(data)],lw=3,\n",
    "#        label='median')\n",
    "\n",
    "for i in range(data.size):\n",
    "    plt.plot([i,i],[data.mean(),data[i]],\"c--\")\n",
    "plt.legend()\n",
    "plt.show()"
   ]
  },
  {
   "cell_type": "code",
   "execution_count": 85,
   "metadata": {},
   "outputs": [],
   "source": [
    "h = [5.6,5.4,5.5,4.9,8.0,7.6,8.2,5.8,5.3]"
   ]
  },
  {
   "cell_type": "code",
   "execution_count": 86,
   "metadata": {},
   "outputs": [],
   "source": [
    "m = sum(h)/len(h)"
   ]
  },
  {
   "cell_type": "code",
   "execution_count": 87,
   "metadata": {},
   "outputs": [
    {
     "data": {
      "image/png": "[encoded data removed]",
      "text/plain": [
       "<Figure size 432x288 with 1 Axes>"
      ]
     },
     "metadata": {
      "needs_background": "light"
     },
     "output_type": "display_data"
    }
   ],
   "source": [
    "import matplotlib.pyplot as plt\n",
    "%matplotlib inline\n",
    "plt.plot(h,\"bo\",label='height')\n",
    "plt.plot([0,len(h)],[m,m],\"g\",label='mean')\n",
    "plt.legend()\n",
    "plt.show()\n"
   ]
  },
  {
   "cell_type": "code",
   "execution_count": null,
   "metadata": {},
   "outputs": [],
   "source": []
  }
 ],
 "metadata": {
  "kernelspec": {
   "display_name": "Python 3",
   "language": "python",
   "name": "python3"
  },
  "language_info": {
   "codemirror_mode": {
    "name": "ipython",
    "version": 3
   },
   "file_extension": ".py",
   "mimetype": "text/x-python",
   "name": "python",
   "nbconvert_exporter": "python",
   "pygments_lexer": "ipython3",
   "version": "3.7.0"
  }
 },
 "nbformat": 4,
 "nbformat_minor": 2
}
