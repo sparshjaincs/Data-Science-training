{
 "cells": [
  {
   "cell_type": "markdown",
   "metadata": {},
   "source": [
    "##### Machine learning is basically a scientific study of alogrithms and statstical methods that computer uses in oreder to perform certain task\n",
    "##### without using explicit programming, relying on patterns, and inference instead. "
   ]
  },
  {
   "cell_type": "markdown",
   "metadata": {},
   "source": [
    "##### A machine learning is a part of artificial intelligence that allows machine to learn automatically and  improves from experience\n",
    "##### without the use of explicit programming."
   ]
  },
  {
   "cell_type": "markdown",
   "metadata": {},
   "source": [
    "#### machine learning is divided into two categories\n",
    "1. supervised learning\n",
    "2. unsupervides learning"
   ]
  },
  {
   "cell_type": "markdown",
   "metadata": {},
   "source": [
    "## Supervised learning"
   ]
  },
  {
   "cell_type": "markdown",
   "metadata": {},
   "source": [
    "##### supervised learning is a learning in which we train the machine on the basis of data which is well labeled and also some data is already taged with correct anwser.\n",
    "##### supervised learning is completely depend on data because it uses that data in order to predict output ie. in supervised learning their may be one to one  or many to one relation between  input and output\n",
    "###### supervisd learnig as the name indicates a presence of supervisor in order to perform specific task. here, supervisor is traing data and tatsk is to predict output\n"
   ]
  },
  {
   "cell_type": "markdown",
   "metadata": {},
   "source": [
    "##### Supervised learning is where you have input variables (x) and an output variable (Y) and you use an algorithm to learn the mapping function from the input to the output.\n",
    "\n",
    "##### Y = f(X)\n",
    "\n",
    "##### The goal is to approximate the mapping function so well that when you have new input data (x) that you can predict the output variables (Y) for that data."
   ]
  },
  {
   "cell_type": "markdown",
   "metadata": {},
   "source": [
    "##### Supervised learning is classified into two categories of alogorithms\n",
    "1. Classification: A classification problem is when the output variable is a category, such as “Red” or “blue” or “disease” and “no disease”.\n",
    "2. Regression: A regression problem is when the output variable is a real value, such as “dollars” or “weight "
   ]
  },
  {
   "cell_type": "markdown",
   "metadata": {},
   "source": [
    "### Alogorithms in SL : Linear regression, Logistic regression, Decision trees, Support vector machine, Recommender system"
   ]
  },
  {
   "cell_type": "markdown",
   "metadata": {},
   "source": [
    "##### Linear regression for regression problems.\n",
    "##### Random forest for classification and regression problems.\n",
    "##### Support vector machines for classification problems."
   ]
  },
  {
   "cell_type": "markdown",
   "metadata": {},
   "source": [
    "## Unsupervised learning"
   ]
  },
  {
   "cell_type": "markdown",
   "metadata": {},
   "source": [
    "##### unsupervised learning is defined as training a machine by using the data which is not labeled nor classified properly and allowing the algoritm to act on the information without guidance"
   ]
  },
  {
   "cell_type": "markdown",
   "metadata": {},
   "source": [
    "##### here, the task of machine is to group unsorted information according to similarities, pattern and diifernces without any prior training of data"
   ]
  },
  {
   "cell_type": "markdown",
   "metadata": {},
   "source": [
    "##### Unsupervised learning is where you only have input data (X) and no corresponding output variables"
   ]
  },
  {
   "cell_type": "markdown",
   "metadata": {},
   "source": [
    "##### Unsupervised learning classified into two categories of algorithms:\n",
    "\n",
    "1. Clustering: A clustering problem is where you want to discover the inherent groupings in the data, such as grouping customers by purchasing behavior.\n",
    "2. Association: An association rule learning problem is where you want to discover rules that describe large portions of your data, such as people that buy X also tend to buy Y."
   ]
  },
  {
   "cell_type": "markdown",
   "metadata": {},
   "source": [
    "### Algorithms in USL: Clustering, K-means, Principal component analysis"
   ]
  },
  {
   "cell_type": "markdown",
   "metadata": {},
   "source": [
    "##### K-means for clustering\n",
    "##### apriori algo for association"
   ]
  },
  {
   "cell_type": "markdown",
   "metadata": {},
   "source": [
    "##### The Machine Learning Algorithm list includes:\n",
    "1. Linear Regression\n",
    "2. Logistic Regression\n",
    "3. Support Vector Machines\n",
    "4. Random Forest\n",
    "5. Naïve Bayes Classification\n",
    "6. Ordinary Least Square Regression\n",
    "7. K-means\n",
    "8. Ensemble Methods\n",
    "9. Apriori Algorithm\n",
    "10. Principal Component Analysis\n",
    "11. Singular Value Decomposition\n",
    "12. Reinforcement or Semi-Supervised Machine Learning\n",
    "13. Independent Component Analysis"
   ]
  },
  {
   "cell_type": "markdown",
   "metadata": {},
   "source": [
    "## Reinforcement or Semi-Supervised Machine Learning\n",
    "##### There are Problems where you’ll find yourself that you’ve found a large amount of input data. Let’s consider it as (X) and then later some of the data is labeled as (Y). These are termed as semi-supervised learning problems.\n",
    "\n",
    "\n",
    "##### These problems will actually sit in between supervised learning and then the unsupervised learning.\n",
    "##### A good example would be to photo archive the places where only some of the images are labeled, (e.g. dog, cat, person) and the majority of the place is unlabeled."
   ]
  },
  {
   "cell_type": "markdown",
   "metadata": {},
   "source": []
  },
  {
   "cell_type": "code",
   "execution_count": null,
   "metadata": {},
   "outputs": [],
   "source": []
  },
  {
   "cell_type": "code",
   "execution_count": null,
   "metadata": {},
   "outputs": [],
   "source": []
  },
  {
   "cell_type": "code",
   "execution_count": null,
   "metadata": {},
   "outputs": [],
   "source": []
  },
  {
   "cell_type": "code",
   "execution_count": null,
   "metadata": {},
   "outputs": [],
   "source": []
  },
  {
   "cell_type": "code",
   "execution_count": null,
   "metadata": {},
   "outputs": [],
   "source": []
  },
  {
   "cell_type": "code",
   "execution_count": null,
   "metadata": {},
   "outputs": [],
   "source": []
  },
  {
   "cell_type": "code",
   "execution_count": null,
   "metadata": {},
   "outputs": [],
   "source": []
  }
 ],
 "metadata": {
  "kernelspec": {
   "display_name": "Python 3",
   "language": "python",
   "name": "python3"
  },
  "language_info": {
   "codemirror_mode": {
    "name": "ipython",
    "version": 3
   },
   "file_extension": ".py",
   "mimetype": "text/x-python",
   "name": "python",
   "nbconvert_exporter": "python",
   "pygments_lexer": "ipython3",
   "version": "3.7.0"
  }
 },
 "nbformat": 4,
 "nbformat_minor": 2
}
